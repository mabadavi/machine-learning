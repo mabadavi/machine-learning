{
 "cells": [
  {
   "cell_type": "code",
   "execution_count": 1,
   "metadata": {},
   "outputs": [],
   "source": [
    "# all imports and magic commands\n",
    "import numpy as np\n",
    "import pandas as pd\n",
    "import matplotlib.pyplot as plt\n",
    "from my_measures import BinaryClassificationPerformance\n",
    "from sklearn.feature_extraction.text import HashingVectorizer\n",
    "from sklearn.feature_extraction.text import TfidfTransformer\n",
    "from scipy.sparse import csr_matrix, hstack\n",
    "from sklearn.preprocessing import StandardScaler\n",
    "from sklearn.model_selection import train_test_split\n",
    "%matplotlib inline"
   ]
  },
  {
   "cell_type": "code",
   "execution_count": 2,
   "metadata": {},
   "outputs": [
    {
     "name": "stdout",
     "output_type": "stream",
     "text": [
      "Help on class BinaryClassificationPerformance in module my_measures:\n",
      "\n",
      "class BinaryClassificationPerformance(builtins.object)\n",
      " |  BinaryClassificationPerformance(predictions, labels, desc, probabilities=None)\n",
      " |  \n",
      " |  Performance measures to evaluate the fit of a binary classification model, v1.02\n",
      " |  \n",
      " |  Methods defined here:\n",
      " |  \n",
      " |  __init__(self, predictions, labels, desc, probabilities=None)\n",
      " |      Initialize attributes: predictions-vector of predicted values for Y, labels-vector of labels for Y\n",
      " |  \n",
      " |  compute_measures(self)\n",
      " |      Compute performance measures defined by Flach p. 57\n",
      " |  \n",
      " |  img_indices(self)\n",
      " |      Get the indices of true and false positives to be able to locate the corresponding images in a list of image names\n",
      " |  \n",
      " |  ----------------------------------------------------------------------\n",
      " |  Data descriptors defined here:\n",
      " |  \n",
      " |  __dict__\n",
      " |      dictionary for instance variables (if defined)\n",
      " |  \n",
      " |  __weakref__\n",
      " |      list of weak references to the object (if defined)\n",
      "\n"
     ]
    }
   ],
   "source": [
    "help(BinaryClassificationPerformance)"
   ]
  },
  {
   "cell_type": "markdown",
   "metadata": {},
   "source": [
    "## Feature Building"
   ]
  },
  {
   "cell_type": "code",
   "execution_count": 3,
   "metadata": {},
   "outputs": [],
   "source": [
    "# function that takes raw data and completes all preprocessing required before model fits\n",
    "def process_raw_data(fn, my_random_seed, test=False):\n",
    "    # read and summarize data\n",
    "    toxic_data = pd.read_csv(fn)\n",
    "    if (not test):\n",
    "        # add an indicator for any toxic, severe toxic, obscene, threat, insult, or indentity hate\n",
    "        toxic_data['any_toxic'] = (toxic_data['toxic'] + toxic_data['severe_toxic'] + toxic_data['obscene'] + toxic_data['threat'] + toxic_data['insult'] + toxic_data['identity_hate'] > 0)\n",
    "    print(\"toxic_data is:\", type(toxic_data))\n",
    "    print(\"toxic_data has\", toxic_data.shape[0], \"rows and\", toxic_data.shape[1], \"columns\", \"\\n\")\n",
    "    print(\"the data types for each of the columns in toxic_data:\")\n",
    "    print(toxic_data.dtypes, \"\\n\")\n",
    "    print(\"the first 10 rows in toxic_data:\")\n",
    "    print(toxic_data.head(5))\n",
    "    if (not test):\n",
    "        print(\"The rate of 'toxic' Wikipedia comments in the dataset: \")\n",
    "        print(toxic_data['any_toxic'].mean())\n",
    "\n",
    "    # vectorize Bag of Words from review text; as sparse matrix\n",
    "    if (not test): # fit_transform()\n",
    "        hv = HashingVectorizer(n_features=2 ** 17, alternate_sign=False)\n",
    "        X_hv = hv.fit_transform(toxic_data.comment_text)\n",
    "        fitted_transformations.append(hv)\n",
    "        print(\"Shape of HashingVectorizer X:\")\n",
    "        print(X_hv.shape)\n",
    "    else: # transform() \n",
    "        X_hv = fitted_transformations[0].transform(toxic_data.comment_text)\n",
    "        print(\"Shape of HashingVectorizer X:\")\n",
    "        print(X_hv.shape)\n",
    "    \n",
    "    # http://scikit-learn.org/stable/modules/generated/sklearn.feature_extraction.text.TfidfTransformer.html\n",
    "    if (not test):\n",
    "        transformer = TfidfTransformer()\n",
    "        X_tfidf = transformer.fit_transform(X_hv)\n",
    "        fitted_transformations.append(transformer)\n",
    "    else:\n",
    "        X_tfidf = fitted_transformations[1].transform(X_hv)\n",
    "    \n",
    "    # create additional quantitative features\n",
    "    # features from Amazon.csv to add to feature set\n",
    "    toxic_data['word_count'] = toxic_data['comment_text'].str.split(' ').str.len()\n",
    "    toxic_data['punc_count'] = toxic_data['comment_text'].str.count(\"\\.\")\n",
    "\n",
    "    X_quant_features = toxic_data[[\"word_count\", \"punc_count\"]]\n",
    "    print(\"Look at a few rows of the new quantitative features: \")\n",
    "    print(X_quant_features.head(10))\n",
    "    \n",
    "    # Combine all quantitative features into a single sparse matrix\n",
    "    X_quant_features_csr = csr_matrix(X_quant_features)\n",
    "    X_combined = hstack([X_tfidf, X_quant_features_csr])\n",
    "    X_matrix = csr_matrix(X_combined) # convert to sparse matrix\n",
    "    print(\"Size of combined bag of words and new quantitative variables matrix:\")\n",
    "    print(X_matrix.shape)\n",
    "\n",
    "     # Create `X`, scaled matrix of features\n",
    "    # feature scaling\n",
    "    if (not test):\n",
    "        sc = StandardScaler(with_mean=False)\n",
    "        X = sc.fit_transform(X_matrix)\n",
    "        fitted_transformations.append(sc)\n",
    "        print(X.shape)\n",
    "        y = toxic_data['any_toxic']\n",
    "    else:\n",
    "        X = fitted_transformations[2].transform(X_matrix)\n",
    "        print(X.shape)\n",
    "    \n",
    "    # Create Training and Test Sets\n",
    "    # enter an integer for the random_state parameter; any integer will work\n",
    "    if (test):\n",
    "        X_submission_test = X\n",
    "        print(\"Shape of X_test for submission:\")\n",
    "        print(X_submission_test.shape)\n",
    "        print('SUCCESS!')\n",
    "        return(toxic_data, X_submission_test)\n",
    "    else: \n",
    "        X_train, X_test, y_train, y_test, X_raw_train, X_raw_test = train_test_split(X, y, toxic_data, test_size=0.2, random_state=my_random_seed)\n",
    "        print(\"Shape of X_train and X_test:\")\n",
    "        print(X_train.shape)\n",
    "        print(X_test.shape)\n",
    "        print(\"Shape of y_train and y_test:\")\n",
    "        print(y_train.shape)\n",
    "        print(y_test.shape)\n",
    "        print(\"Shape of X_raw_train and X_raw_test:\")\n",
    "        print(X_raw_train.shape)\n",
    "        print(X_raw_test.shape)\n",
    "        print('SUCCESS!')\n",
    "        return(X_train, X_test, y_train, y_test, X_raw_train, X_raw_test)   "
   ]
  },
  {
   "cell_type": "markdown",
   "metadata": {},
   "source": [
    "## Create training and test sets"
   ]
  },
  {
   "cell_type": "code",
   "execution_count": 4,
   "metadata": {},
   "outputs": [
    {
     "name": "stdout",
     "output_type": "stream",
     "text": [
      "toxic_data is: <class 'pandas.core.frame.DataFrame'>\n",
      "toxic_data has 159571 rows and 9 columns \n",
      "\n",
      "the data types for each of the columns in toxic_data:\n",
      "id               object\n",
      "comment_text     object\n",
      "toxic             int64\n",
      "severe_toxic      int64\n",
      "obscene           int64\n",
      "threat            int64\n",
      "insult            int64\n",
      "identity_hate     int64\n",
      "any_toxic          bool\n",
      "dtype: object \n",
      "\n",
      "the first 10 rows in toxic_data:\n",
      "                 id                                       comment_text  toxic  \\\n",
      "0  0000997932d777bf  Explanation\\nWhy the edits made under my usern...      0   \n",
      "1  000103f0d9cfb60f  D'aww! He matches this background colour I'm s...      0   \n",
      "2  000113f07ec002fd  Hey man, I'm really not trying to edit war. It...      0   \n",
      "3  0001b41b1c6bb37e  \"\\nMore\\nI can't make any real suggestions on ...      0   \n",
      "4  0001d958c54c6e35  You, sir, are my hero. Any chance you remember...      0   \n",
      "\n",
      "   severe_toxic  obscene  threat  insult  identity_hate  any_toxic  \n",
      "0             0        0       0       0              0      False  \n",
      "1             0        0       0       0              0      False  \n",
      "2             0        0       0       0              0      False  \n",
      "3             0        0       0       0              0      False  \n",
      "4             0        0       0       0              0      False  \n",
      "The rate of 'toxic' Wikipedia comments in the dataset: \n",
      "0.10167887648758234\n",
      "Shape of HashingVectorizer X:\n",
      "(159571, 131072)\n",
      "Look at a few rows of the new quantitative features: \n",
      "   word_count  punc_count\n",
      "0          42           5\n",
      "1          18           2\n",
      "2          42           3\n",
      "3         112           3\n",
      "4          13           1\n",
      "5          12           1\n",
      "6           8           0\n",
      "7          21           2\n",
      "8          83           7\n",
      "9          12           0\n",
      "Size of combined bag of words and new quantitative variables matrix:\n",
      "(159571, 131074)\n",
      "(159571, 131074)\n",
      "Shape of X_train and X_test:\n",
      "(127656, 131074)\n",
      "(31915, 131074)\n",
      "Shape of y_train and y_test:\n",
      "(127656,)\n",
      "(31915,)\n",
      "Shape of X_raw_train and X_raw_test:\n",
      "(127656, 11)\n",
      "(31915, 11)\n",
      "SUCCESS!\n",
      "Number of fits stored in `fitted_transformations` list: \n",
      "3\n"
     ]
    }
   ],
   "source": [
    "# create an empty list to store any use of fit_transform() to transform() later\n",
    "# it is a global list to store model and feature extraction fits\n",
    "fitted_transformations = []\n",
    "\n",
    "X_train, X_test, y_train, y_test, X_raw_train, X_raw_test = process_raw_data(fn='toxiccomments_train.csv', my_random_seed=42)\n",
    "\n",
    "print(\"Number of fits stored in `fitted_transformations` list: \")\n",
    "print(len(fitted_transformations))"
   ]
  },
  {
   "cell_type": "markdown",
   "metadata": {},
   "source": [
    "# Training Data"
   ]
  },
  {
   "cell_type": "markdown",
   "metadata": {},
   "source": [
    "## Model: SVM Linear"
   ]
  },
  {
   "cell_type": "code",
   "execution_count": 5,
   "metadata": {},
   "outputs": [
    {
     "name": "stdout",
     "output_type": "stream",
     "text": [
      "{'Pos': 12981, 'Neg': 114675, 'TP': 11381, 'TN': 113913, 'FP': 762, 'FN': 1600, 'Accuracy': 0.9814971485868271, 'Precision': 0.9372477970847402, 'Recall': 0.8767429319775056, 'desc': 'svm_train'}\n"
     ]
    }
   ],
   "source": [
    "from sklearn import linear_model\n",
    "svm = linear_model.SGDClassifier(loss='hinge', penalty='elasticnet', alpha=0.001, l1_ratio=0.5, fit_intercept=True, max_iter=1000, tol=0.001, shuffle=True, verbose=0, epsilon=0.1, n_jobs=None, random_state=None, learning_rate='optimal', eta0=0.0, power_t=0.5, early_stopping=False, validation_fraction=0.1, n_iter_no_change=5, class_weight=None, warm_start=False, average=False)\n",
    "svm.fit(X_train, y_train)\n",
    "\n",
    "svm_performance_train = BinaryClassificationPerformance(svm.predict(X_train), y_train, 'svm_train')\n",
    "svm_performance_train.compute_measures()\n",
    "print(svm_performance_train.performance_measures)"
   ]
  },
  {
   "cell_type": "markdown",
   "metadata": {},
   "source": [
    "## Model: Ridge Regression"
   ]
  },
  {
   "cell_type": "code",
   "execution_count": 26,
   "metadata": {},
   "outputs": [
    {
     "name": "stdout",
     "output_type": "stream",
     "text": [
      "{'Pos': 12981, 'Neg': 114675, 'TP': 12946, 'TN': 100448, 'FP': 14227, 'FN': 35, 'Accuracy': 0.8882778717804098, 'Precision': 0.47642880800794907, 'Recall': 0.9973037516370079, 'desc': 'rdg_train'}\n"
     ]
    }
   ],
   "source": [
    "from sklearn import linear_model\n",
    "\n",
    "\n",
    "rdg = linear_model.RidgeClassifier(alpha=1, normalize=True, tol=0.0001, solver='sag')\n",
    "rdg.fit(X_train, y_train)\n",
    "rdg_performance_train = BinaryClassificationPerformance(rdg.predict(X_train), y_train, 'rdg_train')\n",
    "rdg_performance_train.compute_measures()\n",
    "print(rdg_performance_train.performance_measures)\n"
   ]
  },
  {
   "cell_type": "markdown",
   "metadata": {},
   "source": [
    "## Model: Ensemble"
   ]
  },
  {
   "cell_type": "code",
   "execution_count": 27,
   "metadata": {},
   "outputs": [
    {
     "name": "stdout",
     "output_type": "stream",
     "text": [
      "{'Pos': 12981, 'Neg': 114675, 'TP': 11344, 'TN': 113983, 'FP': 692, 'FN': 1637, 'Accuracy': 0.9817556558250298, 'Precision': 0.9425058158856763, 'Recall': 0.8738926122794854, 'desc': 'ensemble_train'}\n"
     ]
    }
   ],
   "source": [
    "from sklearn.ensemble import VotingClassifier\n",
    "#create a dictionary of our models\n",
    "estimators=[('svm', svm), ('rdg', rdg)]\n",
    "#create our voting classifier, inputting our models\n",
    "ensemble = VotingClassifier(estimators, voting='hard')\n",
    "ensemble.fit(X_train, y_train)\n",
    "ensemble_performance_train = BinaryClassificationPerformance(ensemble.predict(X_train), y_train, 'ensemble_train')\n",
    "ensemble_performance_train.compute_measures()\n",
    "print(ensemble_performance_train.performance_measures)"
   ]
  },
  {
   "cell_type": "markdown",
   "metadata": {},
   "source": [
    "### Looking at some false positives"
   ]
  },
  {
   "cell_type": "code",
   "execution_count": 28,
   "metadata": {},
   "outputs": [
    {
     "name": "stdout",
     "output_type": "stream",
     "text": [
      "Examples of false positives:\n",
      "2265\n",
      "Gallery\n",
      "I've removed a picture from the gallery of a woman using a squat toilet. I didn't see what was encyclopedic about a woman hamming for the camera with her pants and underpants around her knees.\n",
      "* * * * * * * * * \n",
      "4208\n",
      "\"\n",
      "To Sandstein, No you are absolutely wrong talk pages are deleted here is Wikimedia's stance on the matter  User and talk pages, and their subpages, and other non-article pages that no others have substantively contributed to and whose existence does not impact the project, may be courtesy blanked or deleted.. When you are an administrator you have responsibilities that includes upholding Wikimedia's legal policy's. I have asked for 'ALL' of my user space to be deleted and that includes my talk page. I WILL be taking legal action personally against you if not fulfilled and believe me this is not a threat it is an absolute promise, look you don't know me one bit my Dad bought me a house when I was 21 I now have three cars and a boat and an interstate apartment and enough money and time on my hands to defend my privacy which I will. Ecoleetage's page was deleted, and I have seen it done many times before. Don't try and be the tough guy here you will NOT succeed outside Wikipedia.org. So I leave it up to you. I advise you not to be stupid here. Believe me I am more than happy to go ahead with my threats just fucking try me you piece of shit. I have already started the ball rolling by contacting and paying for lawyers before writing this. Now you may be thinking \"\"oh it's a courtesy thing we don't have to do it\"\" now that wording does not stand up in court the fact is Wikimedia offer this courtesy and I am asking for it you are nobody to go against Wikimedia's legal policys. Now I've reached my level of dealing with Wikimedia. I warn you one last time do it or your fucked. Jack In122.49.151.145  \"\n",
      "* * * * * * * * * \n",
      "10523\n",
      "Thanks for your opinion, Commodore Sloat, but as everyone who reads the Talk section of Terrorism knows, you're full of shiba.\n",
      "* * * * * * * * * \n",
      "12776\n",
      "\"yep. time i wasted because it wasn't up to your \"\"guide lines\"\" ..just because he doesn't have a major belt from a major federation? It's funny because the actual has a wiki-page. Some wrestlers that work for the company have a wiki page. and because I even created the page, Look under one of the belts for the title history. Oh \"\"Ryu Lee\"\" was there. He technically is a professional wrestler, so you shut that mouth and if he gets into WWE & TNA you'll be crawling back to me. and I don't care why the article was deleted. Because some fool who has too much time on their hands doesn't think its required to be in there. so, again shut that mouth. Wikipedia sucks.\n",
      "\n",
      "\"\n",
      "* * * * * * * * * \n",
      "15375\n",
      "'d hate to see this blow up into something bigger\n",
      "* * * * * * * * * \n",
      "18053\n",
      "This user needs to get his terminology straight. I'm not a troll. I'm the Revolution. Where would this stinking situation be without me? Better you think? ;)75.21.97.99\n",
      "* * * * * * * * * \n",
      "22093\n",
      "from blowing up the Earth\n",
      "* * * * * * * * * \n",
      "22329\n",
      "references to kool g rap \n",
      "\n",
      "should there be a section for references to kool g rap e.g. the games song westside story?\n",
      "* * * * * * * * * \n",
      "29780\n",
      "huh?\n",
      "i request a unblock for my account.I've been on vacation for about a month since thanksgiving, and i have no clue whats going on. My brother said he used my account when I was gone and I think he stirred even more trouble.As if im not in enough, just look at this page. He said he even sent some false message saying I was intoxicated at the times of the editing to get it unblocked before I came back.Of course, Yamla didnt bite the story so I come home and I'm like wtf? Im sorry for this mishap and Im changing my password as soon as possible.I know this sounds a littke fishy but i promise you, this was a shock.The last time i was on was Novemeber 26. ANYthing after that is a scam.\n",
      "* * * * * * * * * \n",
      "36678\n",
      "\".\n",
      "Or whatever the hell you want\"\n",
      "* * * * * * * * * \n",
      "39258\n",
      "God says is enough!\n",
      "I know you and Russian fascists read this. Your hatred is well known to God! Jesus stops you!\n",
      "* * * * * * * * * \n",
      "40441\n",
      "\"\n",
      "\n",
      "Warning to Admins I am getting slowly sick and tired of you people. I am half tempted to call you what I really think and you can all **** ***. The instructions clearly stated I can \"\"then use the  template\"\" to request unblock. It clearly appears from all communication I have with admins here that you have clearly balls bigger than you keyboards and think you have been given deity-like powers to bully editors. Thank you.\"\n",
      "* * * * * * * * * \n",
      "41426\n",
      "Articles \n",
      "User pages are not articles. They are user pages. Spics don't know the difference? Thankyou.\n",
      "* * * * * * * * * \n",
      "42139\n",
      "Is Smith married? Gay? What?\n",
      "* * * * * * * * * \n",
      "42172\n",
      "\"\n",
      "\n",
      " Against Corrupt Blocks \n",
      "\n",
      "\"\n",
      "* * * * * * * * * \n",
      "49150\n",
      "Not fair. \n",
      "\n",
      "this I.P. is a school. Every computer in this school uses the same I.P. So it's not fair to block us honest ones just because of few people in this school are idiots.\n",
      "* * * * * * * * * \n",
      "60705\n",
      "FISHERQUEEN AND BIGDUNC AND DOMER48 MUST BE REMOVED FROM WIKIPEDIA. MY ACCOUNT HAS BEEN BLOCKED TO STOP ME FROM EXPOSING THEM BUT I WILL NOT BE SILENCED. THEY ARE EVIL AND ARE MAKING A MOCKERY OF WHAT IS SUPPOSED TO BE A PLACE OF EDUCATION AND INTELLECTUALISM. REALKYHICK ALSO APPEARS TO BE IN LEAGUE WITH THEM, THE SCUMBAG.\n",
      "* * * * * * * * * \n",
      "64270\n",
      "\"\n",
      "\n",
      "Speedy deletion of Manilla River\n",
      " A tag has been placed on Manilla River requesting that it be speedily deleted from Wikipedia. This has been done under section A7 of the criteria for speedy deletion, because the article appears to be about a person or group of people, but it does not indicate how or why the subject is notable: that is, why an article about that subject should be included in an encyclopedia. Under the criteria for speedy deletion, articles that do not indicate the subject's importance or significance may be deleted at any time. Please see the guidelines for what is generally accepted as notable, as well as our subject-specific notability guideline for biographies. \n",
      "\n",
      "If you think that this notice was placed here in error, you may contest the deletion by adding  to the top of the article (just below the existing speedy deletion or \"\"db\"\" tag), coupled with adding a note on the article's talk page explaining your position, but be aware that once tagged for speedy deletion, if the article meets the criterion it may be deleted without delay. Please do not remove the speedy deletion tag yourself, but don't hesitate to add information to the article that would would render it more in conformance with Wikipedia's policies and guidelines.    \"\n",
      "* * * * * * * * * \n",
      "70565\n",
      "Can that person who delete the Bosnian nationality sentense stop with that?\n",
      "\n",
      "I have already explained why she has Bosnian nationality, so I ask him or her who delete that sentense to stop with that!\n",
      "* * * * * * * * * \n",
      "71715\n",
      "Rubbish - stop worrying about it. Your edits are worthwhile and needed. Your East Hills article is excellent. Keep going and stop giving up every time people don't agree with you.\n",
      "* * * * * * * * * \n",
      "72060\n",
      "Would it be easier for you to justify your position if I had disagreed with you in the past? Either way, your behavior is arrogant and your contribution unwanted. Before I answer your question, Samboy, are you, or are you not a complete hypocrite for not signing that post?\n",
      "* * * * * * * * * \n",
      "72707\n",
      "Nutritional vitamin C cure of measles left out\n",
      "* * * * * * * * * \n",
      "77572\n",
      "You're taking Wikipedia too seriously. It's nothing more than digital scrap paper. Think about it: would a real encyclopedia let phony citations stand while striking down valid ones like mine? No. So if Eusebeus wants to think he owns those particular bits of scrap paper, and that those bits of scrap paper are encyclopedic perfection, let him think that. I simply don't have the time to fight non-musical idiots in a sandbox. I have actual music to be a part of.\n",
      "* * * * * * * * * \n",
      "79667\n",
      "This should be discussed on the talk page of the article in question. hen\n",
      "* * * * * * * * * \n",
      "81517\n",
      "Come on Adam==\n",
      "Talking of 'reflecting reality,' let's get you to start telling the truth, Adam: in truth, you hate homeopathy and have been on a crusade to destroy these artciles, haven't you? you and your pro-science ilk equate homeopathy as a deviant evidence-free belief system akin to creationism, which is really quite laughable. They are very different beasts, laddie. All your previous wiki crimes have been aimed at destroying homeopathy and poking fun at those decent people who use it, study it and endorse it. Why don't you just come clean and admit what your game is? then we can all know forsure out in the open what your unpleasant little mind games with other editors since about february have been all about. Otherwise all your longwinded carping on about spurious definitions and POV are meaningless trash. Homeopathy is a subject with its own right to exist without science freaks like you crawling all over it; get over it and find something else to whinge about. Meantime, what are your personal goals with this article, Filll? reveal all. Peter morrell \n",
      "\n",
      "==\n",
      "* * * * * * * * * \n",
      "83723\n",
      "Strategy Rap\n",
      "\n",
      "This isn't even slightly encyclopaedic and can't stay in the namespace, but it's too good to just void so I am pasting it here (which is somebody's cue to tell me it charted in several states and isn't remotely original but what the feck? O) ):\n",
      "\n",
      "Bullys who are not physically tormenting you are quite easy to deal with... just say to them wow thats so original did you think of that all by yourself and just walk away with your head held high. Never let anybody tell you are somebody less then great. Everybody is great in their own way. And just remember your not alone in this world so dont ever feel like you have to walk alone. \n",
      "\n",
      "~*~If you dont know me Dont judge me\n",
      "nobody said you had to love me \n",
      "if ur going to talk and hate\n",
      "make sure your facts are strait\n",
      "cause wat you think i am\n",
      "Chances are im not.~*~\n",
      "~*~ Life you gotta take the good with the bad \n",
      "smile with the sad \n",
      "love with you got \n",
      "and remember what you had\n",
      "learn to forgive but never forget \n",
      "learn from you mistakes \n",
      "but never regret \n",
      "people change things go wrong \n",
      "just remember life goes on.... ~*~\n",
      "~*~ Call me a slut,\n",
      "call me a whore, \n",
      "call me a bitch, \n",
      "ive heard it all before, \n",
      "say that i am fake, \n",
      "say that i lie, \n",
      "say that i am hated, \n",
      "say what you want, \n",
      "you wont see me cry, \n",
      "cause i know none of it is true, \n",
      "cause calling me all this shit, \n",
      "what the f*ck does that make you....~*\n",
      "* * * * * * * * * \n",
      "84006\n",
      "Damn straight. Get your facts right next time.\n",
      "* * * * * * * * * \n",
      "84197\n",
      "...No actually, it was racist. I politely request that nobody with an ideology I consider racist posts to my talk page. I'll assume you are racist until I see evidence otherwise.\n",
      "* * * * * * * * * \n",
      "88436\n",
      "what the hell have you got proof of sockpuppetry? what is that anyway?\n",
      "'\n",
      "* * * * * * * * * \n"
     ]
    },
    {
     "name": "stdout",
     "output_type": "stream",
     "text": [
      "99650\n",
      "Fool \n",
      "\n",
      "So what it doesn't need to go there because i don't want administrators knowing that needs to be deleted.\n",
      "* * * * * * * * * \n",
      "101036\n",
      "One question to the admins: If you intend to let the greek nazi propaganda pusher editors shape the article with NO evidence, isn't it better to use a forum to read this greek nazi crap instead of Greekopedia, at leat there they dont have to pretend to be objective.\n",
      "* * * * * * * * * \n",
      "101333\n",
      "dispute \n",
      "\n",
      "First i am restoring the censored information this user chose to remove from his page as it is relevent to this post\n",
      "\n",
      "censored-information\n",
      "Please be aware i made 1 edit and 2 reverts please learn to count, it takes 3 reverts to break 3rr now please fuck off and go back to your nazi policy enforcement and supporting of slave labor\n",
      "\n",
      "you cunt94.168.204.89 (talk) \n",
      "censored-information-\n",
      "\n",
      "As to your comment on my talk page i once again state i have only made two reverts not three so once again learn to count\n",
      "secondly if you would like users to be civil do not go on to there talk pages and accuse them of things they have not done and make idle threats. finally if you feel something needs a citation please add the [citation needed] tags instead of vandalizing the page for a second time also if you again choose to censor this information i will repost it adnauseum as you clearly act like and are a nazi piece of shit94.168.204.89\n",
      "* * * * * * * * * \n",
      "110185\n",
      "It wasn't me that edited those pages. http://urdirt.com/2009/10/01/ufc-108-silva-vs-belfort-rumors/ Its UFC 108: Silva vs. Belfort until further notice now please leave it alone and have a nice day.\n",
      "* * * * * * * * * \n",
      "111243\n",
      "pretending to be anti-fascist\n",
      "* * * * * * * * * \n",
      "111668\n",
      "I am sick of you saying I am a vandal.\n",
      "* * * * * * * * * \n",
      "111769\n",
      "Please read Wikipedia's Terms of Use http://wikimediafoundation.org/wiki/Privacy_policy. Thank you.\n",
      "* * * * * * * * * \n",
      "111930\n",
      "You're the one who said you didn't want a scientific article! You wanted an article about how the words are actually used throughout histsory. Thus I found an actual legal definition from the world's sole super power at the start of the 21st century and you take it out just because you don't agree with it. And yet you allow all this unreferenced unofficial crap about non-African blacks even while complaining about no references? That's completely hypocritical!\n",
      "* * * * * * * * * \n"
     ]
    }
   ],
   "source": [
    "ensemble_predictions = ensemble.predict(X_train)\n",
    "\n",
    "# false positives\n",
    "\n",
    "print(\"Examples of false positives:\")\n",
    "\n",
    "import random, time\n",
    "\n",
    "for i in range(0, len(ensemble_predictions)):\n",
    "    if (ensemble_predictions[i] == 1):\n",
    "        if (X_raw_train.iloc[i]['any_toxic'] == 0):\n",
    "            if (random.uniform(0, 1) < 0.05): # to print only 5% of the false positives\n",
    "                print(i)\n",
    "                print(X_raw_train.iloc[i]['comment_text'])\n",
    "                print('* * * * * * * * * ')"
   ]
  },
  {
   "cell_type": "markdown",
   "metadata": {},
   "source": [
    "### ROC plot for training data"
   ]
  },
  {
   "cell_type": "code",
   "execution_count": 30,
   "metadata": {},
   "outputs": [
    {
     "data": {
      "image/png": "[encoded data removed]",
      "text/plain": [
       "<Figure size 432x288 with 1 Axes>"
      ]
     },
     "metadata": {
      "needs_background": "light"
     },
     "output_type": "display_data"
    }
   ],
   "source": [
    "fits = [svm_performance_train, rdg_performance_train, ensemble_performance_train]\n",
    "\n",
    "for fit in fits:\n",
    "    plt.plot(fit.performance_measures['FP'] / fit.performance_measures['Neg'], \n",
    "             fit.performance_measures['TP'] / fit.performance_measures['Pos'], 'bo')\n",
    "    plt.text(fit.performance_measures['FP'] / fit.performance_measures['Neg'], \n",
    "             fit.performance_measures['TP'] / fit.performance_measures['Pos'], fit.desc)\n",
    "plt.axis([0, 1, 0, 1])\n",
    "plt.title('ROC plot: training set')\n",
    "plt.xlabel('False positive rate')\n",
    "plt.ylabel('True positive rate')\n",
    "plt.show()"
   ]
  },
  {
   "cell_type": "markdown",
   "metadata": {},
   "source": [
    "# Test Data"
   ]
  },
  {
   "cell_type": "code",
   "execution_count": 31,
   "metadata": {},
   "outputs": [
    {
     "name": "stdout",
     "output_type": "stream",
     "text": [
      "{'Pos': 3244, 'Neg': 28671, 'TP': 2316, 'TN': 28072, 'FP': 599, 'FN': 928, 'Accuracy': 0.952154159486135, 'Precision': 0.7945111492281304, 'Recall': 0.7139334155363748, 'desc': 'svm_test'}\n"
     ]
    }
   ],
   "source": [
    "svm_performance_test = BinaryClassificationPerformance(svm.predict(X_test), y_test, 'svm_test')\n",
    "svm_performance_test.compute_measures()\n",
    "print(svm_performance_test.performance_measures)"
   ]
  },
  {
   "cell_type": "code",
   "execution_count": 32,
   "metadata": {},
   "outputs": [
    {
     "name": "stdout",
     "output_type": "stream",
     "text": [
      "{'Pos': 3244, 'Neg': 28671, 'TP': 3110, 'TN': 22706, 'FP': 5965, 'FN': 134, 'Accuracy': 0.8088986370045433, 'Precision': 0.3426997245179063, 'Recall': 0.9586929716399507, 'desc': 'rdg_test'}\n"
     ]
    }
   ],
   "source": [
    "rdg_performance_test = BinaryClassificationPerformance(rdg.predict(X_test), y_test, 'rdg_test')\n",
    "rdg_performance_test.compute_measures()\n",
    "print(rdg_performance_test.performance_measures)"
   ]
  },
  {
   "cell_type": "code",
   "execution_count": 33,
   "metadata": {},
   "outputs": [
    {
     "name": "stdout",
     "output_type": "stream",
     "text": [
      "{'Pos': 3244, 'Neg': 28671, 'TP': 2341, 'TN': 28103, 'FP': 568, 'FN': 903, 'Accuracy': 0.9539088203039323, 'Precision': 0.8047438982468202, 'Recall': 0.7216399506781751, 'desc': 'ensemble_test'}\n"
     ]
    }
   ],
   "source": [
    "ensemble_performance_test = BinaryClassificationPerformance(ensemble.predict(X_test), y_test, 'ensemble_test')\n",
    "ensemble_performance_test.compute_measures()\n",
    "print(ensemble_performance_test.performance_measures)"
   ]
  },
  {
   "cell_type": "code",
   "execution_count": 34,
   "metadata": {},
   "outputs": [
    {
     "name": "stdout",
     "output_type": "stream",
     "text": [
      "toxic_data is: <class 'pandas.core.frame.DataFrame'>\n",
      "toxic_data has 153164 rows and 2 columns \n",
      "\n",
      "the data types for each of the columns in toxic_data:\n",
      "id              object\n",
      "comment_text    object\n",
      "dtype: object \n",
      "\n",
      "the first 10 rows in toxic_data:\n",
      "                 id                                       comment_text\n",
      "0  00001cee341fdb12  Yo bitch Ja Rule is more succesful then you'll...\n",
      "1  0000247867823ef7  == From RfC == \\n\\n The title is fine as it is...\n",
      "2  00013b17ad220c46  \" \\n\\n == Sources == \\n\\n * Zawe Ashton on Lap...\n",
      "3  00017563c3f7919a  :If you have a look back at the source, the in...\n",
      "4  00017695ad8997eb          I don't anonymously edit articles at all.\n",
      "Shape of HashingVectorizer X:\n",
      "(153164, 131072)\n",
      "Look at a few rows of the new quantitative features: \n",
      "   word_count  punc_count\n",
      "0          72          10\n",
      "1          13           1\n",
      "2          16           0\n",
      "3          38           3\n",
      "4           7           1\n",
      "5          16           2\n",
      "6          31           4\n",
      "7           6           1\n",
      "8         109           9\n",
      "9          41           0\n",
      "Size of combined bag of words and new quantitative variables matrix:\n",
      "(153164, 131074)\n",
      "(153164, 131074)\n",
      "Shape of X_test for submission:\n",
      "(153164, 131074)\n",
      "SUCCESS!\n",
      "Number of rows in the submission test set (should be 153,164): \n"
     ]
    }
   ],
   "source": [
    "# read in test data for submission\n",
    "raw_data, X_test_submission = process_raw_data(fn='toxiccomments_test.csv', my_random_seed=42, test=True)\n",
    "print(\"Number of rows in the submission test set (should be 153,164): \")"
   ]
  },
  {
   "cell_type": "code",
   "execution_count": 38,
   "metadata": {},
   "outputs": [
    {
     "name": "stdout",
     "output_type": "stream",
     "text": [
      "0.22261758637800005\n"
     ]
    }
   ],
   "source": [
    "# store the id from the raw data\n",
    "my_submission = pd.DataFrame(raw_data[\"id\"])\n",
    "# concatenate predictions to the id\n",
    "my_submission[\"prediction\"] = ensemble.predict(X_test_submission)\n",
    "# look at the proportion of positive predictions\n",
    "print(my_submission['prediction'].mean())"
   ]
  },
  {
   "cell_type": "code",
   "execution_count": 36,
   "metadata": {},
   "outputs": [],
   "source": [
    "### ROC plot for test data"
   ]
  },
  {
   "cell_type": "code",
   "execution_count": 37,
   "metadata": {
    "scrolled": true
   },
   "outputs": [
    {
     "data": {
      "image/png": "[encoded data removed]",
      "text/plain": [
       "<Figure size 432x288 with 1 Axes>"
      ]
     },
     "metadata": {
      "needs_background": "light"
     },
     "output_type": "display_data"
    }
   ],
   "source": [
    "fits = [svm_performance_test, rdg_performance_test, ensemble_performance_test]\n",
    "\n",
    "for fit in fits:\n",
    "    plt.plot(fit.performance_measures['FP'] / fit.performance_measures['Neg'], \n",
    "             fit.performance_measures['TP'] / fit.performance_measures['Pos'], 'bo')\n",
    "    plt.text(fit.performance_measures['FP'] / fit.performance_measures['Neg'], \n",
    "             fit.performance_measures['TP'] / fit.performance_measures['Pos'], fit.desc)\n",
    "plt.axis([0, 1, 0, 1])\n",
    "plt.title('ROC plot: test set')\n",
    "plt.xlabel('False positive rate')\n",
    "plt.ylabel('True positive rate')\n",
    "plt.show()"
   ]
  },
  {
   "cell_type": "code",
   "execution_count": 39,
   "metadata": {},
   "outputs": [
    {
     "data": {
      "text/html": [
       "<div>\n",
       "<style scoped>\n",
       "    .dataframe tbody tr th:only-of-type {\n",
       "        vertical-align: middle;\n",
       "    }\n",
       "\n",
       "    .dataframe tbody tr th {\n",
       "        vertical-align: top;\n",
       "    }\n",
       "\n",
       "    .dataframe thead th {\n",
       "        text-align: right;\n",
       "    }\n",
       "</style>\n",
       "<table border=\"1\" class=\"dataframe\">\n",
       "  <thead>\n",
       "    <tr style=\"text-align: right;\">\n",
       "      <th></th>\n",
       "      <th>id</th>\n",
       "      <th>comment_text</th>\n",
       "      <th>word_count</th>\n",
       "      <th>punc_count</th>\n",
       "    </tr>\n",
       "  </thead>\n",
       "  <tbody>\n",
       "    <tr>\n",
       "      <td>0</td>\n",
       "      <td>00001cee341fdb12</td>\n",
       "      <td>Yo bitch Ja Rule is more succesful then you'll...</td>\n",
       "      <td>72</td>\n",
       "      <td>10</td>\n",
       "    </tr>\n",
       "    <tr>\n",
       "      <td>1</td>\n",
       "      <td>0000247867823ef7</td>\n",
       "      <td>== From RfC == \\n\\n The title is fine as it is...</td>\n",
       "      <td>13</td>\n",
       "      <td>1</td>\n",
       "    </tr>\n",
       "    <tr>\n",
       "      <td>2</td>\n",
       "      <td>00013b17ad220c46</td>\n",
       "      <td>\" \\n\\n == Sources == \\n\\n * Zawe Ashton on Lap...</td>\n",
       "      <td>16</td>\n",
       "      <td>0</td>\n",
       "    </tr>\n",
       "    <tr>\n",
       "      <td>3</td>\n",
       "      <td>00017563c3f7919a</td>\n",
       "      <td>:If you have a look back at the source, the in...</td>\n",
       "      <td>38</td>\n",
       "      <td>3</td>\n",
       "    </tr>\n",
       "    <tr>\n",
       "      <td>4</td>\n",
       "      <td>00017695ad8997eb</td>\n",
       "      <td>I don't anonymously edit articles at all.</td>\n",
       "      <td>7</td>\n",
       "      <td>1</td>\n",
       "    </tr>\n",
       "  </tbody>\n",
       "</table>\n",
       "</div>"
      ],
      "text/plain": [
       "                 id                                       comment_text  \\\n",
       "0  00001cee341fdb12  Yo bitch Ja Rule is more succesful then you'll...   \n",
       "1  0000247867823ef7  == From RfC == \\n\\n The title is fine as it is...   \n",
       "2  00013b17ad220c46  \" \\n\\n == Sources == \\n\\n * Zawe Ashton on Lap...   \n",
       "3  00017563c3f7919a  :If you have a look back at the source, the in...   \n",
       "4  00017695ad8997eb          I don't anonymously edit articles at all.   \n",
       "\n",
       "   word_count  punc_count  \n",
       "0          72          10  \n",
       "1          13           1  \n",
       "2          16           0  \n",
       "3          38           3  \n",
       "4           7           1  "
      ]
     },
     "execution_count": 39,
     "metadata": {},
     "output_type": "execute_result"
    }
   ],
   "source": [
    "raw_data.head()"
   ]
  },
  {
   "cell_type": "code",
   "execution_count": 40,
   "metadata": {},
   "outputs": [
    {
     "data": {
      "text/html": [
       "<div>\n",
       "<style scoped>\n",
       "    .dataframe tbody tr th:only-of-type {\n",
       "        vertical-align: middle;\n",
       "    }\n",
       "\n",
       "    .dataframe tbody tr th {\n",
       "        vertical-align: top;\n",
       "    }\n",
       "\n",
       "    .dataframe thead th {\n",
       "        text-align: right;\n",
       "    }\n",
       "</style>\n",
       "<table border=\"1\" class=\"dataframe\">\n",
       "  <thead>\n",
       "    <tr style=\"text-align: right;\">\n",
       "      <th></th>\n",
       "      <th>id</th>\n",
       "      <th>prediction</th>\n",
       "    </tr>\n",
       "  </thead>\n",
       "  <tbody>\n",
       "    <tr>\n",
       "      <td>0</td>\n",
       "      <td>00001cee341fdb12</td>\n",
       "      <td>True</td>\n",
       "    </tr>\n",
       "    <tr>\n",
       "      <td>1</td>\n",
       "      <td>0000247867823ef7</td>\n",
       "      <td>False</td>\n",
       "    </tr>\n",
       "    <tr>\n",
       "      <td>2</td>\n",
       "      <td>00013b17ad220c46</td>\n",
       "      <td>False</td>\n",
       "    </tr>\n",
       "    <tr>\n",
       "      <td>3</td>\n",
       "      <td>00017563c3f7919a</td>\n",
       "      <td>False</td>\n",
       "    </tr>\n",
       "    <tr>\n",
       "      <td>4</td>\n",
       "      <td>00017695ad8997eb</td>\n",
       "      <td>False</td>\n",
       "    </tr>\n",
       "  </tbody>\n",
       "</table>\n",
       "</div>"
      ],
      "text/plain": [
       "                 id  prediction\n",
       "0  00001cee341fdb12        True\n",
       "1  0000247867823ef7       False\n",
       "2  00013b17ad220c46       False\n",
       "3  00017563c3f7919a       False\n",
       "4  00017695ad8997eb       False"
      ]
     },
     "execution_count": 40,
     "metadata": {},
     "output_type": "execute_result"
    }
   ],
   "source": [
    "my_submission.head()"
   ]
  },
  {
   "cell_type": "code",
   "execution_count": 41,
   "metadata": {},
   "outputs": [
    {
     "data": {
      "text/plain": [
       "(153164, 2)"
      ]
     },
     "execution_count": 41,
     "metadata": {},
     "output_type": "execute_result"
    }
   ],
   "source": [
    "my_submission.shape"
   ]
  },
  {
   "cell_type": "code",
   "execution_count": 42,
   "metadata": {},
   "outputs": [],
   "source": [
    "# export submission file as csv\n",
    "# CHANGE FILE PATH: \n",
    "my_submission.to_csv('toxiccomments_submission_final.csv', index=False)"
   ]
  }
 ],
 "metadata": {
  "kernelspec": {
   "display_name": "Python 3",
   "language": "python",
   "name": "python3"
  },
  "language_info": {
   "codemirror_mode": {
    "name": "ipython",
    "version": 3
   },
   "file_extension": ".py",
   "mimetype": "text/x-python",
   "name": "python",
   "nbconvert_exporter": "python",
   "pygments_lexer": "ipython3",
   "version": "3.7.4"
  }
 },
 "nbformat": 4,
 "nbformat_minor": 2
}
