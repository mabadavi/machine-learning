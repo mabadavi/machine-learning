{
 "cells": [
  {
   "cell_type": "code",
   "execution_count": 15,
   "metadata": {},
   "outputs": [],
   "source": [
    "# all imports and magic commands\n",
    "import numpy as np\n",
    "import pandas as pd\n",
    "import matplotlib.pyplot as plt\n",
    "from my_measures import BinaryClassificationPerformance\n",
    "from sklearn.feature_extraction.text import HashingVectorizer\n",
    "from sklearn.feature_extraction.text import TfidfTransformer\n",
    "from scipy.sparse import csr_matrix, hstack\n",
    "from sklearn.preprocessing import StandardScaler\n",
    "from sklearn.model_selection import train_test_split\n",
    "%matplotlib inline"
   ]
  },
  {
   "cell_type": "code",
   "execution_count": 16,
   "metadata": {},
   "outputs": [
    {
     "name": "stdout",
     "output_type": "stream",
     "text": [
      "Help on class BinaryClassificationPerformance in module my_measures:\n",
      "\n",
      "class BinaryClassificationPerformance(builtins.object)\n",
      " |  BinaryClassificationPerformance(predictions, labels, desc, probabilities=None)\n",
      " |  \n",
      " |  Performance measures to evaluate the fit of a binary classification model, v1.02\n",
      " |  \n",
      " |  Methods defined here:\n",
      " |  \n",
      " |  __init__(self, predictions, labels, desc, probabilities=None)\n",
      " |      Initialize attributes: predictions-vector of predicted values for Y, labels-vector of labels for Y\n",
      " |  \n",
      " |  compute_measures(self)\n",
      " |      Compute performance measures defined by Flach p. 57\n",
      " |  \n",
      " |  img_indices(self)\n",
      " |      Get the indices of true and false positives to be able to locate the corresponding images in a list of image names\n",
      " |  \n",
      " |  ----------------------------------------------------------------------\n",
      " |  Data descriptors defined here:\n",
      " |  \n",
      " |  __dict__\n",
      " |      dictionary for instance variables (if defined)\n",
      " |  \n",
      " |  __weakref__\n",
      " |      list of weak references to the object (if defined)\n",
      "\n"
     ]
    }
   ],
   "source": [
    "help(BinaryClassificationPerformance)"
   ]
  },
  {
   "cell_type": "markdown",
   "metadata": {},
   "source": [
    "## Feature Building"
   ]
  },
  {
   "cell_type": "code",
   "execution_count": 17,
   "metadata": {},
   "outputs": [],
   "source": [
    "# function that takes raw data and completes all preprocessing required before model fits\n",
    "def process_raw_data(fn, my_random_seed, test=False):\n",
    "    # read and summarize data\n",
    "    toxic_data = pd.read_csv(fn)\n",
    "    if (not test):\n",
    "        # add an indicator for any toxic, severe toxic, obscene, threat, insult, or indentity hate\n",
    "        toxic_data['any_toxic'] = (toxic_data['toxic'] + toxic_data['severe_toxic'] + toxic_data['obscene'] + toxic_data['threat'] + toxic_data['insult'] + toxic_data['identity_hate'] > 0)\n",
    "    print(\"toxic_data is:\", type(toxic_data))\n",
    "    print(\"toxic_data has\", toxic_data.shape[0], \"rows and\", toxic_data.shape[1], \"columns\", \"\\n\")\n",
    "    print(\"the data types for each of the columns in toxic_data:\")\n",
    "    print(toxic_data.dtypes, \"\\n\")\n",
    "    print(\"the first 10 rows in toxic_data:\")\n",
    "    print(toxic_data.head(5))\n",
    "    if (not test):\n",
    "        print(\"The rate of 'toxic' Wikipedia comments in the dataset: \")\n",
    "        print(toxic_data['any_toxic'].mean())\n",
    "\n",
    "    # vectorize Bag of Words from review text; as sparse matrix\n",
    "    if (not test): # fit_transform()\n",
    "        hv = HashingVectorizer(n_features=2 ** 17, alternate_sign=False)\n",
    "        X_hv = hv.fit_transform(toxic_data.comment_text)\n",
    "        fitted_transformations.append(hv)\n",
    "        print(\"Shape of HashingVectorizer X:\")\n",
    "        print(X_hv.shape)\n",
    "    else: # transform() \n",
    "        X_hv = fitted_transformations[0].transform(toxic_data.comment_text)\n",
    "        print(\"Shape of HashingVectorizer X:\")\n",
    "        print(X_hv.shape)\n",
    "    \n",
    "    # http://scikit-learn.org/stable/modules/generated/sklearn.feature_extraction.text.TfidfTransformer.html\n",
    "    if (not test):\n",
    "        transformer = TfidfTransformer()\n",
    "        X_tfidf = transformer.fit_transform(X_hv)\n",
    "        fitted_transformations.append(transformer)\n",
    "    else:\n",
    "        X_tfidf = fitted_transformations[1].transform(X_hv)\n",
    "    \n",
    "    # create additional quantitative features\n",
    "    # features from Amazon.csv to add to feature set\n",
    "    toxic_data['word_count'] = toxic_data['comment_text'].str.split(' ').str.len()\n",
    "    toxic_data['punc_count'] = toxic_data['comment_text'].str.count(\"\\.\")\n",
    "\n",
    "    X_quant_features = toxic_data[[\"word_count\", \"punc_count\"]]\n",
    "    print(\"Look at a few rows of the new quantitative features: \")\n",
    "    print(X_quant_features.head(10))\n",
    "    \n",
    "    # Combine all quantitative features into a single sparse matrix\n",
    "    X_quant_features_csr = csr_matrix(X_quant_features)\n",
    "    X_combined = hstack([X_tfidf, X_quant_features_csr])\n",
    "    X_matrix = csr_matrix(X_combined) # convert to sparse matrix\n",
    "    print(\"Size of combined bag of words and new quantitative variables matrix:\")\n",
    "    print(X_matrix.shape)\n",
    "    \n",
    "    # Create `X`, scaled matrix of features\n",
    "    # feature scaling\n",
    "    if (not test):\n",
    "        sc = StandardScaler(with_mean=False)\n",
    "        X = sc.fit_transform(X_matrix)\n",
    "        fitted_transformations.append(sc)\n",
    "        print(X.shape)\n",
    "        y = toxic_data['any_toxic']\n",
    "    else:\n",
    "        X = fitted_transformations[2].transform(X_matrix)\n",
    "        print(X.shape)\n",
    "    \n",
    "    # Create Training and Test Sets\n",
    "    # enter an integer for the random_state parameter; any integer will work\n",
    "    if (test):\n",
    "        X_submission_test = X\n",
    "        print(\"Shape of X_test for submission:\")\n",
    "        print(X_submission_test.shape)\n",
    "        print('SUCCESS!')\n",
    "        return(toxic_data, X_submission_test)\n",
    "    else: \n",
    "        X_train, X_test, y_train, y_test, X_raw_train, X_raw_test = train_test_split(X, y, toxic_data, test_size=0.2, random_state=my_random_seed)\n",
    "        print(\"Shape of X_train and X_test:\")\n",
    "        print(X_train.shape)\n",
    "        print(X_test.shape)\n",
    "        print(\"Shape of y_train and y_test:\")\n",
    "        print(y_train.shape)\n",
    "        print(y_test.shape)\n",
    "        print(\"Shape of X_raw_train and X_raw_test:\")\n",
    "        print(X_raw_train.shape)\n",
    "        print(X_raw_test.shape)\n",
    "        print('SUCCESS!')\n",
    "        return(X_train, X_test, y_train, y_test, X_raw_train, X_raw_test)"
   ]
  },
  {
   "cell_type": "markdown",
   "metadata": {},
   "source": [
    "## Create training and test sets"
   ]
  },
  {
   "cell_type": "code",
   "execution_count": 18,
   "metadata": {},
   "outputs": [
    {
     "name": "stdout",
     "output_type": "stream",
     "text": [
      "toxic_data is: <class 'pandas.core.frame.DataFrame'>\n",
      "toxic_data has 159571 rows and 9 columns \n",
      "\n",
      "the data types for each of the columns in toxic_data:\n",
      "id               object\n",
      "comment_text     object\n",
      "toxic             int64\n",
      "severe_toxic      int64\n",
      "obscene           int64\n",
      "threat            int64\n",
      "insult            int64\n",
      "identity_hate     int64\n",
      "any_toxic          bool\n",
      "dtype: object \n",
      "\n",
      "the first 10 rows in toxic_data:\n",
      "                 id                                       comment_text  toxic  \\\n",
      "0  0000997932d777bf  Explanation\\nWhy the edits made under my usern...      0   \n",
      "1  000103f0d9cfb60f  D'aww! He matches this background colour I'm s...      0   \n",
      "2  000113f07ec002fd  Hey man, I'm really not trying to edit war. It...      0   \n",
      "3  0001b41b1c6bb37e  \"\\nMore\\nI can't make any real suggestions on ...      0   \n",
      "4  0001d958c54c6e35  You, sir, are my hero. Any chance you remember...      0   \n",
      "\n",
      "   severe_toxic  obscene  threat  insult  identity_hate  any_toxic  \n",
      "0             0        0       0       0              0      False  \n",
      "1             0        0       0       0              0      False  \n",
      "2             0        0       0       0              0      False  \n",
      "3             0        0       0       0              0      False  \n",
      "4             0        0       0       0              0      False  \n",
      "The rate of 'toxic' Wikipedia comments in the dataset: \n",
      "0.10167887648758234\n",
      "Shape of HashingVectorizer X:\n",
      "(159571, 131072)\n",
      "Look at a few rows of the new quantitative features: \n",
      "   word_count  punc_count\n",
      "0          42           5\n",
      "1          18           2\n",
      "2          42           3\n",
      "3         112           3\n",
      "4          13           1\n",
      "5          12           1\n",
      "6           8           0\n",
      "7          21           2\n",
      "8          83           7\n",
      "9          12           0\n",
      "Size of combined bag of words and new quantitative variables matrix:\n",
      "(159571, 131074)\n",
      "(159571, 131074)\n",
      "Shape of X_train and X_test:\n",
      "(127656, 131074)\n",
      "(31915, 131074)\n",
      "Shape of y_train and y_test:\n",
      "(127656,)\n",
      "(31915,)\n",
      "Shape of X_raw_train and X_raw_test:\n",
      "(127656, 11)\n",
      "(31915, 11)\n",
      "SUCCESS!\n",
      "Number of fits stored in `fitted_transformations` list: \n",
      "3\n"
     ]
    }
   ],
   "source": [
    "# create an empty list to store any use of fit_transform() to transform() later\n",
    "# it is a global list to store model and feature extraction fits\n",
    "fitted_transformations = []\n",
    "\n",
    "X_train, X_test, y_train, y_test, X_raw_train, X_raw_test = process_raw_data(fn='toxiccomments_train.csv', my_random_seed=42)\n",
    "\n",
    "print(\"Number of fits stored in `fitted_transformations` list: \")\n",
    "print(len(fitted_transformations))"
   ]
  },
  {
   "cell_type": "markdown",
   "metadata": {},
   "source": [
    "# Training Data"
   ]
  },
  {
   "cell_type": "markdown",
   "metadata": {},
   "source": [
    "## Model: SVM Linear"
   ]
  },
  {
   "cell_type": "code",
   "execution_count": 19,
   "metadata": {},
   "outputs": [
    {
     "name": "stdout",
     "output_type": "stream",
     "text": [
      "{'Pos': 12981, 'Neg': 114675, 'TP': 11352, 'TN': 113880, 'FP': 795, 'FN': 1629, 'Accuracy': 0.981011468321113, 'Precision': 0.9345517411706594, 'Recall': 0.8745088976195978, 'desc': 'svm_train'}\n"
     ]
    }
   ],
   "source": [
    "from sklearn import linear_model\n",
    "svm = linear_model.SGDClassifier(loss='hinge', penalty='elasticnet', alpha=0.001, l1_ratio=0.5, fit_intercept=True, max_iter=1000, tol=0.001, shuffle=True, verbose=0, epsilon=0.1, n_jobs=None, random_state=None, learning_rate='optimal', eta0=0.0, power_t=0.5, early_stopping=False, validation_fraction=0.1, n_iter_no_change=5, class_weight=None, warm_start=False, average=False)\n",
    "svm.fit(X_train, y_train)\n",
    "\n",
    "svm_performance_train = BinaryClassificationPerformance(svm.predict(X_train), y_train, 'svm_train')\n",
    "svm_performance_train.compute_measures()\n",
    "print(svm_performance_train.performance_measures)"
   ]
  },
  {
   "cell_type": "markdown",
   "metadata": {},
   "source": [
    "### Looking at some false positives"
   ]
  },
  {
   "cell_type": "code",
   "execution_count": 20,
   "metadata": {},
   "outputs": [
    {
     "name": "stdout",
     "output_type": "stream",
     "text": [
      "Examples of false positives:\n",
      "2413\n",
      "Yet another thanks \n",
      "\n",
      "Looks like you keep yourself busy doing this sort of thing, but I'll add my thanks to the list for fixing the stupid vandalism on my User Page.\n",
      "* * * * * * * * * \n",
      "9764\n",
      "Cheers man. To be honest, I laughed my arse out in front of my laptop today. You guys are so funny attacking a beginner and that definitely made my day. Me and my girlfriend just can't stop laughing, seriously, hellish ghoul? ))))). Thanks for your advice I'll consider reading policies tomorrow. Now, the article is not complete, data must be obviously changed and content put in order and completed. However, I'll decide whether to go on or give up this wikipedia thing, since I like reality and palpable history, which is obviously not the case here. Wikipedia is more likely to fit (or create some) American history and culture. Thanks man and forgive my mistakes. They were on purpose. Best of luck to you guys.\n",
      "* * * * * * * * * \n",
      "14598\n",
      "Elonka RFC\n",
      "\n",
      "I'm considering putting Elonka up for RFC seeing as the election process was corrupted.\n",
      "* * * * * * * * * \n",
      "17622\n",
      "And you are wrong about your not being rude. In fact, your persistence proves that you are in fact being rude on purpose.\n",
      "* * * * * * * * * \n",
      "17979\n",
      "I don't care if you put 100 warnings. I'm not a racist, so you take it back. Just because I think there are Hebrew fanatics, and Christian fanatics, and Atheist fanatics it doesn't mean I'm a racist.\n",
      "* * * * * * * * * \n",
      "22715\n",
      "what is a sockpuppet? i've recently made an account as I am sick of carrying an IP address around- you should do the same.\n",
      "* * * * * * * * * \n",
      "22800\n",
      "Cheers\n",
      "Damn fine page.\n",
      "* * * * * * * * * \n",
      "25265\n",
      "is in the discussion page where a suggestion is made. WTF?\n",
      "* * * * * * * * * \n",
      "28860\n",
      "Warning\n",
      "\n",
      "This message is regarding the page Penis. Please refrain from adding nonsense to Wikipedia.  It is considered vandalism.  If you would like to experiment, use the sandbox. —\n",
      "* * * * * * * * * \n",
      "30863\n",
      "Also,Scrapiron Always Talk to shit.You Better Watch Out of his comments.He's a Right Hand Of Zionist.He Controls you out of he that.I Just Want to know that Little Bird is for US Version.MD 500 Defender is for Malaysian army.i out here and im give out.210.186.9.117\n",
      "* * * * * * * * * \n",
      "30865\n",
      "Vandalism Removal \n",
      "\n",
      "Although disagreeing with the validity of such a diet I am sure that the word 'penis' does not belong half way down the section on it's own. As such I have gelded this article and removed it's penis. I couldn't be bothered to sign in to do it but thought I'd better announce it here in case somebody reverted my edit and brought the penis back. 194.223.81.88\n",
      "* * * * * * * * * \n",
      "35476\n",
      "\"\n",
      "\n",
      " Throwing \"\"qualifications\"\" for justification of a certin POV is meaningless.  I can just as easily say that I work in finance, am Scottish, and don a kilt every Thursday to greet wee lasses along the Mile.  Does that make me right? \n",
      "\n",
      "Common sense people.    \"\n",
      "* * * * * * * * * \n",
      "41348\n",
      "\"\n",
      "\n",
      " Another Toronto Cinema \n",
      "\n",
      "Although short-lived (ca 1970 - ca 1978), I think you might wish to include the Cinema Lumiere in your list. It was a small, independent theatre located on College Street about a block west of Spadina. Probably best labeled an \"\"art house\"\", Cinema Lumiere nevertheless showed such cult gems as George Romero's (original) The Night of the Living Dead. Still, more typical were showings of modern European films such as The Night Porter, The Conformist, and so forth.  \"\n",
      "* * * * * * * * * \n",
      "50657\n",
      "\"\n",
      "\n",
      "Your polices are nothing but lies. Also... WTF is an \"\"ip\"\"? Do you mean IP? I suggest you get people to teach your editors basic English.\n",
      "And as a matter of fact, I have an account. And I will edit and spam all I like, good day, cunt. -)\"\n",
      "* * * * * * * * * \n",
      "57114\n",
      "\"\n",
      "\n",
      " Friendly tags \n",
      "\n",
      "Hello, I noticed you've been updating  spout \"\n",
      "* * * * * * * * * \n",
      "60417\n",
      "\"\n",
      "\n",
      "Shut down Wikipedia\n",
      "\n",
      "This is EXACTLY why Wikipedia should be shut down, or at least referenced as a blog instead of an \"\"Encyclopedia\"\" you have a current event that is constantly changing and yet Wikipedia is publishing an article as fact.\"\n",
      "* * * * * * * * * \n",
      "61470\n",
      "\"\n",
      "\n",
      "You are spot on about the propaganda. Thats what this article and mariacahi case is ! so called \"\"pro-life\"\" propaganda.Time to change that. 65.35.249.125  \"\n",
      "* * * * * * * * * \n",
      "64205\n",
      "Regarding laws and homosexuality\n",
      "The following passage has been re-added several times, despite explanations that parts of it violate WP:NPOV and are false, when compared to the source used for the article:\n",
      "\n",
      "Gay and Lesbian tourists should avoid the Cayman Islands because of both the local culture and the fact that certain laws and customs are still in effect from British Colonial rule. Homosexuality is illegal in the Cayman Islands, and gay men and lesbians will be jailed and expelled from the Cayman Islands if caught.\n",
      "\n",
      "The cite, however, makes clear that homosexuality is not illegal in the Caymans, though there is a tradition of homophobia and a documented incident of an American tourist briefly detained for a public show of affection. The cited source makes no mention of likelihood of imprisonment or expulsion. Nor is the exhortation to avoid the Caymans acceptable in an encyclopedia. Further reversions and addition of spurious information may be considered vandalism, and will merit administrators' attention. 99.11.4.201\n",
      "* * * * * * * * * \n",
      "65599\n",
      "Vandalism \n",
      "\n",
      "The other users delete the photo pleas warn other users like me if you are a real counter-vandalist.\n",
      "* * * * * * * * * \n",
      "67934\n",
      "Kalaripatt pic\n",
      "I have tagged several images for the same reason in the past and all of them have been speedy deleted by other admins(as recently as a few hours ago) without harping on me wasting their time or asking me to go through a pointless IFD etc.,..  If you dont want to speedy it, dont.  Another admin will come along and do the honours.  Non-admin editors' time isnt free either and we are all volunteering our valuable time.  So stop acting like its a waste of your time to examine a simple thing like this.  If it really is, you should consider giving up your tools.\n",
      "\n",
      "And whats more, this is an image which I have tagged in the past for precisely the same reason(watermark) and it has been deleted more than once too.  It keeps coming back and you tell me it is a waste of your time that I tag it?  Sarvagnya\n",
      "* * * * * * * * * \n",
      "68365\n",
      "\"\n",
      "Ganging up to exclude a new editor is not \"\"consensus\"\", as any admin will easily see ... so, if you want to get yourselves blocked, pls carry on this pathetic dummy spitting performance ...   \"\n",
      "* * * * * * * * * \n",
      "68711\n",
      "I am a very efficient person, who can steer the ape\n",
      "* * * * * * * * * \n",
      "68872\n",
      "Thanks! ) \n",
      "\n",
      "Hi, just wanted to let you know that I think you're a total loser to be patrolling recent changes.  Go outside and do us all a favor.\n",
      "Note: you ARE being reported for vandalism  stop it.\n",
      "* * * * * * * * * \n",
      "71654\n",
      "Re: spoilers perhaps?\n",
      "i figured after i finished the anime series that there lives would go back to normal. that was 7 months ago. last night i watched the movie and it made me mad it was teh exact opposite of what i was hopeing for. i was hopeing for them to go back home and live with winry the rest of there lives but they stayed on what is portraied as our side of the gate. that really made me mad. but seeing scar and lusts counterparts its kind of ok cause they were two of my favorite  characters. finding out dante was the leader of the homunculi kind of knocked me off balance i figured it wouldent be her i thought it was hoenhime the whole time.\n",
      "* * * * * * * * * \n",
      "72060\n",
      "Would it be easier for you to justify your position if I had disagreed with you in the past? Either way, your behavior is arrogant and your contribution unwanted. Before I answer your question, Samboy, are you, or are you not a complete hypocrite for not signing that post?\n",
      "* * * * * * * * * \n",
      "77092\n",
      "I don't know where you are really from, but it's not just Germany, it is in the US, UK etc, too. They are arresting children and taking them away from their parents! It's gone too far. And it is mostly because of this friggen movement. Don't you see that?  (talk)\n",
      "* * * * * * * * * \n",
      "78071\n",
      "\"\n",
      "And as I told MosMusy, I would strongly consider supporting Armenia for inclusion if there was an outbreak of related Eastern European protests (I don't think a few demonstrations in Albania and Croatia warrant a separate \"\"2011 Eastern European protests\"\" article, certainly, and WP:RS doesn't support the hypothesis that Armenian and Azerbaijani protesters may have drawn inspiration from those countries instead of from Tunisia and Egypt) and Armenia was affected. Ditto Central Asian protests, even. It's a border country, and there are competing definitions. I think as long as we make it very clear in this article that Armenia is politically and culturally linked to Europe (like Turkey) despite the geography, we're doing no disservice.\n",
      "As for the comment deletion, I think one or two users are overwriting the previous version of the page when they encounter an edit conflict rather than copy-and-pasting their comments into the current version. -  \"\n",
      "* * * * * * * * * \n",
      "78771\n",
      "\" For what it's worth, neither the Chinese, Korean or Japanese Wikipedias abbreviate the title using \"\"blah blah\"\" or any of the other alternatives, precisely because they would probably think it would be stupid to have a title which had \"\"blah blah\"\" in it.\"\n",
      "* * * * * * * * * \n"
     ]
    },
    {
     "name": "stdout",
     "output_type": "stream",
     "text": [
      "80167\n",
      "Don't be a douche, CKATZ.\n",
      "* * * * * * * * * \n",
      "81117\n",
      "Someone Ban Me So My misery posting here is over\n",
      "I am trying hard as hell to be an A$$ to get banned. Make it permanent please. I can then get back to being productive. Well I am waiting. 172.56.11.104\n",
      "* * * * * * * * * \n",
      "90388\n",
      "A JEW?  OR NOT A JEW?\n",
      "* * * * * * * * * \n",
      "91371\n",
      "I am all for a RFC, but moderators should prevent you from flooding the RFC with irrelevancies. I am OK with Encyclopedia's and Dictionaries policies about the usage of foreign languages use. But you have to convince others that a words original version usage should be equivalent to the usage of modern creation.\n",
      "* * * * * * * * * \n",
      "93445\n",
      "Lol, you are too busy doing what now?   Maybe you don't realize it, but no one gives a shit about anything you're doing, because it's a waste of time and no one will ever read it\n",
      "* * * * * * * * * \n",
      "93553\n",
      "Hey Asspro \n",
      "I left a disparaging remark about you on the helpdesk. Enjoy.\n",
      "* * * * * * * * * \n",
      "94777\n",
      "\"  I'm simply leaving out negative things being put onto their wikipedia article that was the result of actions of \"\"azskeptic\"\".  I'm trying to show the positive things about the school and help them with the future while you seem to be on a mission to try to ruin the lives of these people?\"\n",
      "* * * * * * * * * \n",
      "99078\n",
      "Did you poop in your pants? —\n",
      "* * * * * * * * * \n",
      "100404\n",
      "\" (UTC)\n",
      "\n",
      " I agreed with . Frankly speaking,  looks completely right. The general remarks should be written in one article. However, it seems that crazy(, stupid, criminal) admins have already dispersed almost all of decent general editors in the world, who can edit and satisfy .    11:34, 6 March 2015\"\n",
      "* * * * * * * * * \n",
      "103855\n",
      "Banana \n",
      "\n",
      "Hi banana box here's the rear for you!!!!!\n",
      "* * * * * * * * * \n",
      "114627\n",
      "\"\n",
      "\n",
      " Bernie Sanders \n",
      "\n",
      "I'm not sure that Straightinfo fully appreciates what NPOV means, as exampled here:What this comes down to is Bkwillwm feels any comment which might make Sanders \"\"look bad\"\", is POV, even though the intent of the information is to present neutrality by giveng both sides at once.  It isn't about reproducing two opposite pointed views, but instead giving all the pertinant information and letting the reader draw their own conclusions. The user removed the POV flag without any consensus with other users and then dropped a few weasel wordings into the Bernie Sanders article. Advice and guidence would be very appreciated.  \"\n",
      "* * * * * * * * * \n",
      "127090\n",
      "What if CISPA bill became DNSchanger virus, Google, FB and others cannot promisr our privacy but instead infect all our computers filled with devastating virusrs that government cannot handle them. Insead they spy our information (like virusrs), we get infected. As soon as it gets too contagious. What about NoKoR Nuclear missile to interfere CISPA with Kim Jong Un?\n",
      "* * * * * * * * * \n"
     ]
    }
   ],
   "source": [
    "svm_predictions = svm.predict(X_train)\n",
    "\n",
    "# false positives\n",
    "\n",
    "print(\"Examples of false positives:\")\n",
    "\n",
    "import random, time\n",
    "\n",
    "for i in range(0, len(svm_predictions)):\n",
    "    if (svm_predictions[i] == 1):\n",
    "        if (X_raw_train.iloc[i]['any_toxic'] == 0):\n",
    "            if (random.uniform(0, 1) < 0.05): # to print only 5% of the false positives\n",
    "                print(i)\n",
    "                print(X_raw_train.iloc[i]['comment_text'])\n",
    "                print('* * * * * * * * * ')"
   ]
  },
  {
   "cell_type": "markdown",
   "metadata": {},
   "source": [
    "### ROC plot for training data"
   ]
  },
  {
   "cell_type": "code",
   "execution_count": 21,
   "metadata": {},
   "outputs": [
    {
     "data": {
      "image/png": "[encoded data removed]",
      "text/plain": [
       "<Figure size 432x288 with 1 Axes>"
      ]
     },
     "metadata": {
      "needs_background": "light"
     },
     "output_type": "display_data"
    }
   ],
   "source": [
    "fits = [svm_performance_train]\n",
    "\n",
    "for fit in fits:\n",
    "    plt.plot(fit.performance_measures['FP'] / fit.performance_measures['Neg'], \n",
    "             fit.performance_measures['TP'] / fit.performance_measures['Pos'], 'bo')\n",
    "    plt.text(fit.performance_measures['FP'] / fit.performance_measures['Neg'], \n",
    "             fit.performance_measures['TP'] / fit.performance_measures['Pos'], fit.desc)\n",
    "plt.axis([0, 1, 0, 1])\n",
    "plt.title('ROC plot: test set')\n",
    "plt.xlabel('False positive rate')\n",
    "plt.ylabel('True positive rate')\n",
    "plt.show()"
   ]
  },
  {
   "cell_type": "markdown",
   "metadata": {},
   "source": [
    "# Test Data"
   ]
  },
  {
   "cell_type": "code",
   "execution_count": 23,
   "metadata": {},
   "outputs": [
    {
     "name": "stdout",
     "output_type": "stream",
     "text": [
      "{'Pos': 3244, 'Neg': 28671, 'TP': 2357, 'TN': 28067, 'FP': 604, 'FN': 887, 'Accuracy': 0.9532821557261476, 'Precision': 0.796014859844647, 'Recall': 0.7265721331689272, 'desc': 'svm_test'}\n"
     ]
    }
   ],
   "source": [
    "svm_performance_test = BinaryClassificationPerformance(svm.predict(X_test), y_test, 'svm_test')\n",
    "svm_performance_test.compute_measures()\n",
    "print(svm_performance_test.performance_measures)"
   ]
  },
  {
   "cell_type": "code",
   "execution_count": 24,
   "metadata": {},
   "outputs": [
    {
     "name": "stdout",
     "output_type": "stream",
     "text": [
      "toxic_data is: <class 'pandas.core.frame.DataFrame'>\n",
      "toxic_data has 153164 rows and 2 columns \n",
      "\n",
      "the data types for each of the columns in toxic_data:\n",
      "id              object\n",
      "comment_text    object\n",
      "dtype: object \n",
      "\n",
      "the first 10 rows in toxic_data:\n",
      "                 id                                       comment_text\n",
      "0  00001cee341fdb12  Yo bitch Ja Rule is more succesful then you'll...\n",
      "1  0000247867823ef7  == From RfC == \\n\\n The title is fine as it is...\n",
      "2  00013b17ad220c46  \" \\n\\n == Sources == \\n\\n * Zawe Ashton on Lap...\n",
      "3  00017563c3f7919a  :If you have a look back at the source, the in...\n",
      "4  00017695ad8997eb          I don't anonymously edit articles at all.\n",
      "Shape of HashingVectorizer X:\n",
      "(153164, 131072)\n",
      "Look at a few rows of the new quantitative features: \n",
      "   word_count  punc_count\n",
      "0          72          10\n",
      "1          13           1\n",
      "2          16           0\n",
      "3          38           3\n",
      "4           7           1\n",
      "5          16           2\n",
      "6          31           4\n",
      "7           6           1\n",
      "8         109           9\n",
      "9          41           0\n",
      "Size of combined bag of words and new quantitative variables matrix:\n",
      "(153164, 131074)\n",
      "(153164, 131074)\n",
      "Shape of X_test for submission:\n",
      "(153164, 131074)\n",
      "SUCCESS!\n",
      "Number of rows in the submission test set (should be 153,164): \n"
     ]
    }
   ],
   "source": [
    "# read in test data for submission\n",
    "raw_data, X_test_submission = process_raw_data(fn='toxiccomments_test.csv', my_random_seed=42, test=True)\n",
    "print(\"Number of rows in the submission test set (should be 153,164): \")"
   ]
  },
  {
   "cell_type": "code",
   "execution_count": 25,
   "metadata": {},
   "outputs": [
    {
     "name": "stdout",
     "output_type": "stream",
     "text": [
      "0.22704421404507585\n"
     ]
    }
   ],
   "source": [
    "# store the id from the raw data\n",
    "my_submission = pd.DataFrame(raw_data[\"id\"])\n",
    "# concatenate predictions to the id\n",
    "my_submission[\"prediction\"] = svm.predict(X_test_submission)\n",
    "# look at the proportion of positive predictions\n",
    "print(my_submission['prediction'].mean())"
   ]
  },
  {
   "cell_type": "code",
   "execution_count": 26,
   "metadata": {},
   "outputs": [],
   "source": [
    "### ROC plot for test data"
   ]
  },
  {
   "cell_type": "code",
   "execution_count": 27,
   "metadata": {},
   "outputs": [
    {
     "data": {
      "image/png": "[encoded data removed]",
      "text/plain": [
       "<Figure size 432x288 with 1 Axes>"
      ]
     },
     "metadata": {
      "needs_background": "light"
     },
     "output_type": "display_data"
    }
   ],
   "source": [
    "fits = [svm_performance_test]\n",
    "\n",
    "for fit in fits:\n",
    "    plt.plot(fit.performance_measures['FP'] / fit.performance_measures['Neg'], \n",
    "             fit.performance_measures['TP'] / fit.performance_measures['Pos'], 'bo')\n",
    "    plt.text(fit.performance_measures['FP'] / fit.performance_measures['Neg'], \n",
    "             fit.performance_measures['TP'] / fit.performance_measures['Pos'], fit.desc)\n",
    "plt.axis([0, 1, 0, 1])\n",
    "plt.title('ROC plot: test set')\n",
    "plt.xlabel('False positive rate')\n",
    "plt.ylabel('True positive rate')\n",
    "plt.show()"
   ]
  }
 ],
 "metadata": {
  "kernelspec": {
   "display_name": "Python 3",
   "language": "python",
   "name": "python3"
  },
  "language_info": {
   "codemirror_mode": {
    "name": "ipython",
    "version": 3
   },
   "file_extension": ".py",
   "mimetype": "text/x-python",
   "name": "python",
   "nbconvert_exporter": "python",
   "pygments_lexer": "ipython3",
   "version": "3.7.4"
  }
 },
 "nbformat": 4,
 "nbformat_minor": 2
}
