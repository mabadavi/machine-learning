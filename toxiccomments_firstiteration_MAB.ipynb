{
 "cells": [
  {
   "cell_type": "code",
   "execution_count": 2,
   "metadata": {},
   "outputs": [],
   "source": [
    "# all imports and magic commands\n",
    "import numpy as np\n",
    "import pandas as pd\n",
    "import matplotlib.pyplot as plt\n",
    "from my_measures import BinaryClassificationPerformance\n",
    "from sklearn.feature_extraction.text import HashingVectorizer\n",
    "from sklearn.feature_extraction.text import TfidfTransformer\n",
    "from scipy.sparse import csr_matrix, hstack\n",
    "from sklearn.preprocessing import StandardScaler\n",
    "from sklearn.model_selection import train_test_split\n",
    "%matplotlib inline"
   ]
  },
  {
   "cell_type": "code",
   "execution_count": 3,
   "metadata": {},
   "outputs": [
    {
     "name": "stdout",
     "output_type": "stream",
     "text": [
      "Help on class BinaryClassificationPerformance in module my_measures:\n",
      "\n",
      "class BinaryClassificationPerformance(builtins.object)\n",
      " |  BinaryClassificationPerformance(predictions, labels, desc, probabilities=None)\n",
      " |  \n",
      " |  Performance measures to evaluate the fit of a binary classification model, v1.02\n",
      " |  \n",
      " |  Methods defined here:\n",
      " |  \n",
      " |  __init__(self, predictions, labels, desc, probabilities=None)\n",
      " |      Initialize attributes: predictions-vector of predicted values for Y, labels-vector of labels for Y\n",
      " |  \n",
      " |  compute_measures(self)\n",
      " |      Compute performance measures defined by Flach p. 57\n",
      " |  \n",
      " |  img_indices(self)\n",
      " |      Get the indices of true and false positives to be able to locate the corresponding images in a list of image names\n",
      " |  \n",
      " |  ----------------------------------------------------------------------\n",
      " |  Data descriptors defined here:\n",
      " |  \n",
      " |  __dict__\n",
      " |      dictionary for instance variables (if defined)\n",
      " |  \n",
      " |  __weakref__\n",
      " |      list of weak references to the object (if defined)\n",
      "\n"
     ]
    }
   ],
   "source": [
    "help(BinaryClassificationPerformance)"
   ]
  },
  {
   "cell_type": "markdown",
   "metadata": {},
   "source": [
    "## Feature Building"
   ]
  },
  {
   "cell_type": "code",
   "execution_count": 4,
   "metadata": {},
   "outputs": [],
   "source": [
    "# function that takes raw data and completes all preprocessing required before model fits\n",
    "def process_raw_data(fn, my_random_seed, test=False):\n",
    "    # read and summarize data\n",
    "    toxic_data = pd.read_csv(fn)\n",
    "    if (not test):\n",
    "        # add an indicator for any toxic, severe toxic, obscene, threat, insult, or indentity hate\n",
    "        toxic_data['any_toxic'] = (toxic_data['toxic'] + toxic_data['severe_toxic'] + toxic_data['obscene'] + toxic_data['threat'] + toxic_data['insult'] + toxic_data['identity_hate'] > 0)\n",
    "    print(\"toxic_data is:\", type(toxic_data))\n",
    "    print(\"toxic_data has\", toxic_data.shape[0], \"rows and\", toxic_data.shape[1], \"columns\", \"\\n\")\n",
    "    print(\"the data types for each of the columns in toxic_data:\")\n",
    "    print(toxic_data.dtypes, \"\\n\")\n",
    "    print(\"the first 10 rows in toxic_data:\")\n",
    "    print(toxic_data.head(5))\n",
    "    if (not test):\n",
    "        print(\"The rate of 'toxic' Wikipedia comments in the dataset: \")\n",
    "        print(toxic_data['any_toxic'].mean())\n",
    "\n",
    "    # vectorize Bag of Words from review text; as sparse matrix\n",
    "    hv = HashingVectorizer(n_features=2 ** 17, alternate_sign=False)\n",
    "    X_hv = hv.fit_transform(toxic_data.comment_text)\n",
    "    print(\"Shape of HashingVectorizer X:\")\n",
    "    print(X_hv.shape)\n",
    "    \n",
    "    # http://scikit-learn.org/stable/modules/generated/sklearn.feature_extraction.text.TfidfTransformer.html\n",
    "    transformer = TfidfTransformer()\n",
    "    X_tfidf = transformer.fit_transform(X_hv)\n",
    "    \n",
    "    # create additional quantitative features\n",
    "    # features from Amazon.csv to add to feature set\n",
    "    toxic_data['word_count'] = toxic_data['comment_text'].str.split(' ').str.len()\n",
    "    toxic_data['punc_count'] = toxic_data['comment_text'].str.count(\"\\.\")\n",
    "\n",
    "    X_quant_features = toxic_data[[\"word_count\", \"punc_count\"]]\n",
    "    print(\"Look at a few rows of the new quantitative features: \")\n",
    "    print(X_quant_features.head(10))\n",
    "    \n",
    "    # Combine all quantitative features into a single sparse matrix\n",
    "    X_quant_features_csr = csr_matrix(X_quant_features)\n",
    "    X_combined = hstack([X_tfidf, X_quant_features_csr])\n",
    "    X_matrix = csr_matrix(X_combined) # convert to sparse matrix\n",
    "    print(\"Size of combined bag of words and new quantitative variables matrix:\")\n",
    "    print(X_matrix.shape)\n",
    "    \n",
    "    # Create `X`, scaled matrix of features\n",
    "    # feature scaling\n",
    "    sc = StandardScaler(with_mean=False)\n",
    "    X = sc.fit_transform(X_matrix)\n",
    "    print(X.shape)\n",
    "    if (not test):\n",
    "        y = toxic_data['any_toxic']\n",
    "    \n",
    "    # Create Training and Test Sets\n",
    "    # enter an integer for the random_state parameter; any integer will work\n",
    "    if (test):\n",
    "        X_submission_test = X\n",
    "        print(\"Shape of X_test for submission:\")\n",
    "        print(X_submission_test.shape)\n",
    "        print('SUCCESS!')\n",
    "        return(toxic_data, X_submission_test)\n",
    "    else: \n",
    "        X_train, X_test, y_train, y_test, X_raw_train, X_raw_test = train_test_split(X, y, toxic_data, test_size=0.2, random_state=my_random_seed)\n",
    "        print(\"Shape of X_train and X_test:\")\n",
    "        print(X_train.shape)\n",
    "        print(X_test.shape)\n",
    "        print(\"Shape of y_train and y_test:\")\n",
    "        print(y_train.shape)\n",
    "        print(y_test.shape)\n",
    "        print(\"Shape of X_raw_train and X_raw_test:\")\n",
    "        print(X_raw_train.shape)\n",
    "        print(X_raw_test.shape)\n",
    "        print('SUCCESS!')\n",
    "        return(X_train, X_test, y_train, y_test, X_raw_train, X_raw_test)"
   ]
  },
  {
   "cell_type": "markdown",
   "metadata": {},
   "source": [
    "## Create training and test sets"
   ]
  },
  {
   "cell_type": "code",
   "execution_count": 5,
   "metadata": {},
   "outputs": [
    {
     "name": "stdout",
     "output_type": "stream",
     "text": [
      "toxic_data is: <class 'pandas.core.frame.DataFrame'>\n",
      "toxic_data has 159571 rows and 9 columns \n",
      "\n",
      "the data types for each of the columns in toxic_data:\n",
      "id               object\n",
      "comment_text     object\n",
      "toxic             int64\n",
      "severe_toxic      int64\n",
      "obscene           int64\n",
      "threat            int64\n",
      "insult            int64\n",
      "identity_hate     int64\n",
      "any_toxic          bool\n",
      "dtype: object \n",
      "\n",
      "the first 10 rows in toxic_data:\n",
      "                 id                                       comment_text  toxic  \\\n",
      "0  0000997932d777bf  Explanation\\nWhy the edits made under my usern...      0   \n",
      "1  000103f0d9cfb60f  D'aww! He matches this background colour I'm s...      0   \n",
      "2  000113f07ec002fd  Hey man, I'm really not trying to edit war. It...      0   \n",
      "3  0001b41b1c6bb37e  \"\\nMore\\nI can't make any real suggestions on ...      0   \n",
      "4  0001d958c54c6e35  You, sir, are my hero. Any chance you remember...      0   \n",
      "\n",
      "   severe_toxic  obscene  threat  insult  identity_hate  any_toxic  \n",
      "0             0        0       0       0              0      False  \n",
      "1             0        0       0       0              0      False  \n",
      "2             0        0       0       0              0      False  \n",
      "3             0        0       0       0              0      False  \n",
      "4             0        0       0       0              0      False  \n",
      "The rate of 'toxic' Wikipedia comments in the dataset: \n",
      "0.10167887648758234\n",
      "Shape of HashingVectorizer X:\n",
      "(159571, 131072)\n",
      "Look at a few rows of the new quantitative features: \n",
      "   word_count  punc_count\n",
      "0          42           5\n",
      "1          18           2\n",
      "2          42           3\n",
      "3         112           3\n",
      "4          13           1\n",
      "5          12           1\n",
      "6           8           0\n",
      "7          21           2\n",
      "8          83           7\n",
      "9          12           0\n",
      "Size of combined bag of words and new quantitative variables matrix:\n",
      "(159571, 131074)\n",
      "(159571, 131074)\n",
      "Shape of X_train and X_test:\n",
      "(127656, 131074)\n",
      "(31915, 131074)\n",
      "Shape of y_train and y_test:\n",
      "(127656,)\n",
      "(31915,)\n",
      "Shape of X_raw_train and X_raw_test:\n",
      "(127656, 11)\n",
      "(31915, 11)\n",
      "SUCCESS!\n"
     ]
    }
   ],
   "source": [
    "X_train, X_test, y_train, y_test, X_raw_train, X_raw_test = process_raw_data(fn='toxiccomments_train.csv', my_random_seed=42)"
   ]
  },
  {
   "cell_type": "markdown",
   "metadata": {},
   "source": [
    "# Training Data"
   ]
  },
  {
   "cell_type": "markdown",
   "metadata": {},
   "source": [
    "## Model: SVM Linear"
   ]
  },
  {
   "cell_type": "code",
   "execution_count": 6,
   "metadata": {},
   "outputs": [
    {
     "name": "stdout",
     "output_type": "stream",
     "text": [
      "{'Pos': 12981, 'Neg': 114675, 'TP': 11193, 'TN': 113838, 'FP': 837, 'FN': 1788, 'Accuracy': 0.9794369242338785, 'Precision': 0.9304239401496259, 'Recall': 0.8622602264848624, 'desc': 'svm_train'}\n"
     ]
    }
   ],
   "source": [
    "from sklearn import linear_model\n",
    "svm = linear_model.SGDClassifier(loss='hinge', penalty='elasticnet', alpha=0.001, l1_ratio=0.5, fit_intercept=True, max_iter=1000, tol=0.001, shuffle=True, verbose=0, epsilon=0.1, n_jobs=None, random_state=None, learning_rate='optimal', eta0=0.0, power_t=0.5, early_stopping=False, validation_fraction=0.1, n_iter_no_change=5, class_weight=None, warm_start=False, average=False)\n",
    "svm.fit(X_train, y_train)\n",
    "\n",
    "svm_performance_train = BinaryClassificationPerformance(svm.predict(X_train), y_train, 'svm_train')\n",
    "svm_performance_train.compute_measures()\n",
    "print(svm_performance_train.performance_measures)"
   ]
  },
  {
   "cell_type": "markdown",
   "metadata": {},
   "source": [
    "### Looking at some false positives"
   ]
  },
  {
   "cell_type": "code",
   "execution_count": 7,
   "metadata": {},
   "outputs": [
    {
     "name": "stdout",
     "output_type": "stream",
     "text": [
      "Examples of false positives:\n",
      "1404\n",
      "Your time will come.\n",
      "* * * * * * * * * \n",
      "4351\n",
      "Please have a look at Wikipedia:Dick, thank you.\n",
      "* * * * * * * * * \n",
      "6035\n",
      "Hitler, The Game\n",
      "You lost it.\n",
      "* * * * * * * * * \n",
      "6335\n",
      "I dont care. I have at least one proof link. You are so stupid that you dont know how to translate my link. And of couse you dont have any argument or link. Additionaly you must read discussion page. And again. T-72 dont have any ammo in turret.\n",
      "* * * * * * * * * \n",
      "8133\n",
      "\"\n",
      " History and ethnogenesis \n",
      "\n",
      "This part of the article is total crap! It is written by some incompetent greeks probably. Neither the bulgarians are slavs, neither \"\"byzantine\"\"!!!\"\n",
      "* * * * * * * * * \n",
      "8512\n",
      "Carlo Forlivesi \n",
      "\n",
      "You mention Google News? A search on the guy returns a measly 8 results from the archives.\n",
      "\n",
      "Say what you will, the page is OBVIOUS and shameless self-promotion by a complete nobody.\n",
      "\n",
      "Not that I expect Wikipedia to ever become anything serious or reliable (it's mostly a pile of bullshit anyway) but at least this kind of crap used to be removed. If that's no longer the case, well, that just gives even more weight to the point I make on my user page.\n",
      "* * * * * * * * * \n",
      "9099\n",
      "Though he is a tyrant, the way Bush Administration executed him using the Iraq's puppet Government is worse the Saddam's tyranny.\n",
      "* * * * * * * * * \n",
      "9600\n",
      "\"\n",
      "\n",
      " Please do not vandalize pages, as you did with this edit to Bucephalus. If you continue to do so, you will be blocked from editing.   /talk to me/ \"\n",
      "* * * * * * * * * \n",
      "12041\n",
      "\"\n",
      "OK, I still have to fix the intro, but I am having difficulty finding any additional information about the bat's reproduction. Most sources simply say it is \"\"not well known\"\" or just mention what I've already said about a single annual offspring, so I'm not sure how to expand it any further. As for the false pelvic nipple, I have redescribed it as a pair of \"\"vestigial pubic nipple[s]\"\" as this seems to be a more common phrasing. talk \"\n",
      "* * * * * * * * * \n",
      "22604\n",
      "This latter site is obviously a front for Pakistani terrorists.\n",
      "* * * * * * * * * \n",
      "22711\n",
      "Good job for having your bully NeilN defend you.  You sure are a piece of work.  Goodbye Wikipedia, congratulations, you will never be accurate while you behave like this.  All I did was add accurate information.  Helen, hang your head in shame, in serious, severe shame.  I hope that you see the level of harm you have done, even if NeilN doesn't because his head is too far up his own backside to actually check any facts. 123.2.223.96\n",
      "* * * * * * * * * \n",
      "22813\n",
      "OH GET A LIFE YOU PRICK 81.144.199.2\n",
      "* * * * * * * * * \n",
      "28860\n",
      "Warning\n",
      "\n",
      "This message is regarding the page Penis. Please refrain from adding nonsense to Wikipedia.  It is considered vandalism.  If you would like to experiment, use the sandbox. —\n",
      "* * * * * * * * * \n",
      "31089\n",
      "\"{{{{ You will not remove the tag because I will put it back up. And I will not reove any \"\"national insult\"\". The world would be a lot better of a place if every Brit got infected and died from AIDS. But that is besdies the point.\n",
      "\n",
      "The section on \"\"Criticism of Amrerica' is unwarranted, one-sided, and a half attempt to divert responsibility away from British Petroleum. Also, the Lockerbie bomber hs everything to do with this oil spill since we are seeing everything come to light in the U.S. Senate inquiry not to mention accusations by President Obama and Hillary Rodham Clinton. By that same assumption, I ask, what the fuck does Union Carbide have to do with the B.P. ooil spill Obviously an editor had no qualms about including that in it's \"\"criticism of America.\"\"  \n",
      "\n",
      "\"\n",
      "* * * * * * * * * \n",
      "36603\n",
      "Its so simple. If you have a proxy located in Japan, you can easily fool people that you are editing from Japan!\n",
      "* * * * * * * * * \n",
      "39258\n",
      "God says is enough!\n",
      "I know you and Russian fascists read this. Your hatred is well known to God! Jesus stops you!\n",
      "* * * * * * * * * \n",
      "41054\n",
      "Yes, I think my zoology lecturer described a coral as a medusa that unaccountably stood on its head and built itself a house... I've added refs for most of the more egregious bits of OR and have tidied up the books. The human section doesn't seem to me to need much doing to it; I think we ought to do something about the fossils, for taxobox, phylogeny and diversity (e.g., we should illustrate tabulate, rugose etc alongside (in a table?) some sort of description of the groups  name, time range from-to, description, ref, image (or something). BTW I shall be offline all next week.\n",
      "* * * * * * * * * \n",
      "50843\n",
      "HE DELETED ARTICLES I DID CREATE WITHOUT TALKING. THIS IS BAD AND MEAN. I WANT THAT HE GETS DE-ADMINED.\n",
      "\n",
      "DELETING ARTICLES IS NO LITTLE THING FOR NON-ADMIN USERS.\n",
      "\n",
      "IT IS UGLY, MEAN, ARROGANT TO DO SO.\n",
      "* * * * * * * * * \n",
      "53202\n",
      "\"\n",
      " Welcome to Wikipedia, where you're either with us or against us. Apparently it's been decided you're in the \"\"against\"\" column. So much for \"\"[making] the Internet not suck\"\" eh? \"\n",
      "* * * * * * * * * \n",
      "58034\n",
      "It is not racist \n",
      "\n",
      "what i post, you are just a PC race denier\n",
      "* * * * * * * * * \n",
      "58103\n",
      "Yep, because Jeremy should ONLY be painted in a positive light.  Why?  Because how else will he fool everybody into believing he's harmless?  I DO know Jeremy personally, this is one of the reasons I have a personal problem with him.  And I'll be damned if I'm going to let some bleeding heart whitewash this guy and turn him into some kind of wannabe saint/hero.  He's not a saint.  He's not a hero.  He's a stupid script kiddie who got himself caught, tried to weasel out, and went to jail for his crime as he should have.\n",
      "* * * * * * * * * \n",
      "65582\n",
      "not covered in the article \n",
      "\n",
      "John Hughes was a notable cum guzzler - this is somewhat noteworthy right? The habit helped him in terms of idea generation and development for 16 Candles (referenced in Youtube Edition Mindfuck Doggystyle with Penry Rames.)\n",
      "* * * * * * * * * \n",
      "65793\n",
      "Sockpuppet investigation\n",
      "* * * * * * * * * \n",
      "66653\n",
      "hurt you and you will be sorry\n",
      "* * * * * * * * * \n",
      "67194\n",
      "What you just typed a while ago does imply that you believe that Barricade is in the movie.\n",
      "* * * * * * * * * \n",
      "70528\n",
      "Calling someones actions stupid is not the same as calling the person stupid and telling the to grow up is poititive critisism not a personal attack...\n",
      "\n",
      "what planet do you live on....94.168.210.205\n",
      "* * * * * * * * * \n",
      "70914\n",
      "\"== \"\"Somebody's Watching Me\"\" ==\n",
      "The recording used in the GEICO commercials is not a remix. It's clearly a new (or different) recording; the singer featured is definitely NOT Michael Jackson.   \"\n",
      "* * * * * * * * * \n",
      "73994\n",
      "Unforunately, for 90% of the students who attend SGU (including myself), we didn't get into US based schools. My earlier edits to add more information was putting a line in which is FACT. It is you who must prove that line to be false because I am a student at that university. I am putting that line back in.\n",
      "* * * * * * * * * \n",
      "79370\n",
      "\"\n",
      "\n",
      "Sentence in \"\"Ergot Theory\"\"\n",
      "\n",
      "I'm not really satisfied with this sentence \"\"A new study has shown that a primitive form of LSD was infecting the wheat supply on one side of the village. \"\"  First off, what study? There is no reference cited so this could be some wackos study or it could be something reputable. Also, the sources I've cited in the rest of this section were all discussing RYE not wheat. This is the lone sentence about wheat and I have no idea whether ergot (which I assume is what is meant by \"\"a primitive form of LSD\"\") on wheat does the same as ergot on rye.  I propose the sentence be edited out unless it can be expanded by citing some verifiable study.  \"\n",
      "* * * * * * * * * \n",
      "82857\n",
      "Pontiac Monrana \n",
      "\n",
      "Karrmann you full of shit ibelive all of the people who know that the montan will return after 2008\n",
      "\n",
      "and we want ot knwo ehre do you get your info form and can you sohw it \n",
      "\n",
      "and guess what you dont know anythng about the Montana\n",
      "* * * * * * * * * \n",
      "86056\n",
      "I Went and looked at the links on the page, Excellent job Guys and Gals, You are greatly helping me, why the number of links has nearly tripled! My project may yet be saved!\n",
      "* * * * * * * * * \n",
      "90747\n",
      "You have no respect for the victims, you are with the killers.\n",
      "* * * * * * * * * \n",
      "92736\n",
      "This is futile as  I mentioned. There are multiple sources confirming Ali's apostasy from Islam. Can you demonstrate that Warraq is not trustworthy?  (talk•contribs)\n",
      "* * * * * * * * * \n"
     ]
    },
    {
     "name": "stdout",
     "output_type": "stream",
     "text": [
      "98199\n",
      "Thank you for all the fun crap and allowing them to do what ever they want to\n",
      "\n",
      "Hope your happy they win there right im not\n",
      "* * * * * * * * * \n",
      "99786\n",
      "Having fun?\n",
      "Another of your racist admins just deleted my response again and u keep lying about me.\n",
      "* * * * * * * * * \n",
      "110252\n",
      "Makes me want to vomit\n",
      "The way they're hand holding SPUI especially after the way they treated me, yourself and Gateman. Especially how I was permbanned even though truth and evidence were on my side. I'm starting to wonder if this project is anything but a who knows who club. I could get 50,000 edits pretty quick too making the type of crap redirect edits he does.\n",
      "* * * * * * * * * \n",
      "111243\n",
      "pretending to be anti-fascist\n",
      "* * * * * * * * * \n",
      "111908\n",
      "Truth is an absolute defense to libel.  You are lying.  And you are harassing me.\n",
      "* * * * * * * * * \n",
      "116275\n",
      "\"\n",
      "\n",
      "Chapter List, disputed information\n",
      "While defunct chapters have been noted with an asterik, some listed chapters, notably the \"\"colonies\"\" are not officially recognized.  IMHO it is irresponsible to list those which either AEPi national, or local instituions do not officially recognize. \n",
      "\n",
      "Proposed solutions:\n",
      " remove the colony section. \n",
      " harsh, possibly unproductive\n",
      " remove all unrecongized groups from the colony section. \n",
      " create subsections noting nationally & institutionally recognized, either or and none of the above.\n",
      " confusing and would not conform with Wiki-standards\n",
      " identify those colonies which are officially recognized by National and those recognized by the institition (similar to the asterik phenomena)\"\n",
      "* * * * * * * * * \n",
      "120799\n",
      "What's your problem? \n",
      "\n",
      "Stop being so racist. 78.145.156.74\n",
      "* * * * * * * * * \n",
      "122798\n",
      "\"\n",
      "\n",
      "I'm not sure that your statement on this \"\"fawning article\"\" by someone you characterize as a \"\"conspiracy nut\"\" is in compliance with WP:NPOV.   \"\n",
      "* * * * * * * * * \n"
     ]
    }
   ],
   "source": [
    "svm_predictions = svm.predict(X_train)\n",
    "\n",
    "# false positives\n",
    "\n",
    "print(\"Examples of false positives:\")\n",
    "\n",
    "import random, time\n",
    "\n",
    "for i in range(0, len(svm_predictions)):\n",
    "    if (svm_predictions[i] == 1):\n",
    "        if (X_raw_train.iloc[i]['any_toxic'] == 0):\n",
    "            if (random.uniform(0, 1) < 0.05): # to print only 5% of the false positives\n",
    "                print(i)\n",
    "                print(X_raw_train.iloc[i]['comment_text'])\n",
    "                print('* * * * * * * * * ')"
   ]
  },
  {
   "cell_type": "markdown",
   "metadata": {},
   "source": [
    "### ROC plot for training data"
   ]
  },
  {
   "cell_type": "code",
   "execution_count": 8,
   "metadata": {},
   "outputs": [
    {
     "data": {
      "image/png": "[encoded data removed]",
      "text/plain": [
       "<Figure size 432x288 with 1 Axes>"
      ]
     },
     "metadata": {
      "needs_background": "light"
     },
     "output_type": "display_data"
    }
   ],
   "source": [
    "fits = [svm_performance_train]\n",
    "\n",
    "for fit in fits:\n",
    "    plt.plot(fit.performance_measures['FP'] / fit.performance_measures['Neg'], \n",
    "             fit.performance_measures['TP'] / fit.performance_measures['Pos'], 'bo')\n",
    "    plt.text(fit.performance_measures['FP'] / fit.performance_measures['Neg'], \n",
    "             fit.performance_measures['TP'] / fit.performance_measures['Pos'], fit.desc)\n",
    "plt.axis([0, 1, 0, 1])\n",
    "plt.title('ROC plot: test set')\n",
    "plt.xlabel('False positive rate')\n",
    "plt.ylabel('True positive rate')\n",
    "plt.show()"
   ]
  },
  {
   "cell_type": "markdown",
   "metadata": {},
   "source": [
    "# Test Data"
   ]
  },
  {
   "cell_type": "code",
   "execution_count": 9,
   "metadata": {},
   "outputs": [
    {
     "name": "stdout",
     "output_type": "stream",
     "text": [
      "{'Pos': 3244, 'Neg': 28671, 'TP': 2309, 'TN': 28045, 'FP': 626, 'FN': 935, 'Accuracy': 0.951088829703901, 'Precision': 0.7867120954003407, 'Recall': 0.7117755856966708, 'desc': 'svm_test'}\n"
     ]
    }
   ],
   "source": [
    "svm_performance_test = BinaryClassificationPerformance(svm.predict(X_test), y_test, 'svm_test')\n",
    "svm_performance_test.compute_measures()\n",
    "print(svm_performance_test.performance_measures)"
   ]
  },
  {
   "cell_type": "code",
   "execution_count": 10,
   "metadata": {},
   "outputs": [
    {
     "name": "stdout",
     "output_type": "stream",
     "text": [
      "toxic_data is: <class 'pandas.core.frame.DataFrame'>\n",
      "toxic_data has 153164 rows and 2 columns \n",
      "\n",
      "the data types for each of the columns in toxic_data:\n",
      "id              object\n",
      "comment_text    object\n",
      "dtype: object \n",
      "\n",
      "the first 10 rows in toxic_data:\n",
      "                 id                                       comment_text\n",
      "0  00001cee341fdb12  Yo bitch Ja Rule is more succesful then you'll...\n",
      "1  0000247867823ef7  == From RfC == \\n\\n The title is fine as it is...\n",
      "2  00013b17ad220c46  \" \\n\\n == Sources == \\n\\n * Zawe Ashton on Lap...\n",
      "3  00017563c3f7919a  :If you have a look back at the source, the in...\n",
      "4  00017695ad8997eb          I don't anonymously edit articles at all.\n",
      "Shape of HashingVectorizer X:\n",
      "(153164, 131072)\n",
      "Look at a few rows of the new quantitative features: \n",
      "   word_count  punc_count\n",
      "0          72          10\n",
      "1          13           1\n",
      "2          16           0\n",
      "3          38           3\n",
      "4           7           1\n",
      "5          16           2\n",
      "6          31           4\n",
      "7           6           1\n",
      "8         109           9\n",
      "9          41           0\n",
      "Size of combined bag of words and new quantitative variables matrix:\n",
      "(153164, 131074)\n",
      "(153164, 131074)\n",
      "Shape of X_test for submission:\n",
      "(153164, 131074)\n",
      "SUCCESS!\n",
      "Number of rows in the submission test set (should be 153,164): \n"
     ]
    }
   ],
   "source": [
    "# read in test data for submission\n",
    "raw_data, X_test_submission = process_raw_data(fn='toxiccomments_test.csv', my_random_seed=42, test=True)\n",
    "print(\"Number of rows in the submission test set (should be 153,164): \")"
   ]
  },
  {
   "cell_type": "code",
   "execution_count": 11,
   "metadata": {},
   "outputs": [
    {
     "name": "stdout",
     "output_type": "stream",
     "text": [
      "0.17757436473322713\n"
     ]
    }
   ],
   "source": [
    "# store the id from the raw data\n",
    "my_submission = pd.DataFrame(raw_data[\"id\"])\n",
    "# concatenate predictions to the id\n",
    "my_submission[\"prediction\"] = svm.predict(X_test_submission)\n",
    "# look at the proportion of positive predictions\n",
    "print(my_submission['prediction'].mean())"
   ]
  },
  {
   "cell_type": "code",
   "execution_count": 12,
   "metadata": {},
   "outputs": [],
   "source": [
    "### ROC plot for test data"
   ]
  },
  {
   "cell_type": "code",
   "execution_count": 13,
   "metadata": {},
   "outputs": [
    {
     "data": {
      "image/png": "[encoded data removed]",
      "text/plain": [
       "<Figure size 432x288 with 1 Axes>"
      ]
     },
     "metadata": {
      "needs_background": "light"
     },
     "output_type": "display_data"
    }
   ],
   "source": [
    "fits = [svm_performance_test]\n",
    "\n",
    "for fit in fits:\n",
    "    plt.plot(fit.performance_measures['FP'] / fit.performance_measures['Neg'], \n",
    "             fit.performance_measures['TP'] / fit.performance_measures['Pos'], 'bo')\n",
    "    plt.text(fit.performance_measures['FP'] / fit.performance_measures['Neg'], \n",
    "             fit.performance_measures['TP'] / fit.performance_measures['Pos'], fit.desc)\n",
    "plt.axis([0, 1, 0, 1])\n",
    "plt.title('ROC plot: test set')\n",
    "plt.xlabel('False positive rate')\n",
    "plt.ylabel('True positive rate')\n",
    "plt.show()"
   ]
  }
 ],
 "metadata": {
  "kernelspec": {
   "display_name": "Python 3",
   "language": "python",
   "name": "python3"
  },
  "language_info": {
   "codemirror_mode": {
    "name": "ipython",
    "version": 3
   },
   "file_extension": ".py",
   "mimetype": "text/x-python",
   "name": "python",
   "nbconvert_exporter": "python",
   "pygments_lexer": "ipython3",
   "version": "3.7.4"
  }
 },
 "nbformat": 4,
 "nbformat_minor": 2
}
